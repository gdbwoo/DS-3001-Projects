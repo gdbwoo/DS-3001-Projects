{
  "nbformat": 4,
  "nbformat_minor": 0,
  "metadata": {
    "colab": {
      "provenance": []
    },
    "kernelspec": {
      "name": "python3",
      "display_name": "Python 3"
    },
    "language_info": {
      "name": "python"
    }
  },
  "cells": [
    {
      "cell_type": "code",
      "execution_count": 1,
      "metadata": {
        "id": "ppnFdv4BuCw8",
        "outputId": "5246807d-6526-4893-d7c6-fddf5570bb2d",
        "colab": {
          "base_uri": "https://localhost:8080/"
        }
      },
      "outputs": [
        {
          "output_type": "stream",
          "name": "stdout",
          "text": [
            "Cloning into 'DS-3001-Projects'...\n",
            "remote: Enumerating objects: 139, done.\u001b[K\n",
            "remote: Counting objects: 100% (19/19), done.\u001b[K\n",
            "remote: Compressing objects: 100% (19/19), done.\u001b[K\n",
            "remote: Total 139 (delta 8), reused 0 (delta 0), pack-reused 120\u001b[K\n",
            "Receiving objects: 100% (139/139), 11.58 MiB | 12.71 MiB/s, done.\n",
            "Resolving deltas: 100% (40/40), done.\n"
          ]
        }
      ],
      "source": [
        "! git clone \"https://github.com/gdbwoo/DS-3001-Projects\""
      ]
    },
    {
      "cell_type": "code",
      "source": [
        "# Import all necessary packages\n",
        "import geopandas as gpd\n",
        "#import mapclassify (fix this)\n",
        "import pandas as pd\n",
        "import matplotlib\n",
        "import matplotlib.pyplot as plt\n",
        "import numpy as np\n",
        "from mpl_toolkits.axes_grid1 import make_axes_locatable"
      ],
      "metadata": {
        "id": "eacCO3RXyCB-"
      },
      "execution_count": 2,
      "outputs": []
    },
    {
      "cell_type": "code",
      "source": [
        "# Load data\n",
        "#gdf = gpd.read_file('DS-3001-Projects/Project 3/VirginiaCounty_ClippedToShoreline.shx') # Load Virginia shapefile for maps (fix this)\n",
        "vdf = pd.read_csv('DS-3001-Projects/Project 3/voting_VA.csv') # Load historical voting data\n",
        "cdf = pd.read_csv('DS-3001-Projects/Project 3/county_adjacencies.csv') # Load county adjacency data and population data"
      ],
      "metadata": {
        "id": "JDNxDrMAyF7A"
      },
      "execution_count": 4,
      "outputs": []
    },
    {
      "cell_type": "code",
      "source": [
        "# # Merge shapefile data and county adjacency data:\n",
        "# gdf['FIPS_left'] = pd.to_numeric(gdf['STCOFIPS'])\n",
        "# df = gdf.merge(cdf,left_on='FIPS_left',right_on='FIPS')  # merge county population and adjacency data into df\n",
        "# del gdf, cdf"
      ],
      "metadata": {
        "id": "Owu9WwWlzicu"
      },
      "execution_count": null,
      "outputs": []
    }
  ]
}
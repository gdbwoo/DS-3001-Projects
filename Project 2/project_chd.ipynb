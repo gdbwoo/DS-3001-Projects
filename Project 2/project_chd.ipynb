{
  "nbformat": 4,
  "nbformat_minor": 0,
  "metadata": {
    "colab": {
      "provenance": []
    },
    "kernelspec": {
      "name": "python3",
      "display_name": "Python 3"
    },
    "language_info": {
      "name": "python"
    }
  },
  "cells": [
    {
      "cell_type": "markdown",
      "source": [
        "# **Summary**"
      ],
      "metadata": {
        "id": "uJJdlW-BnhQq"
      }
    },
    {
      "cell_type": "markdown",
      "source": [
        "For Project 2, our group’s goal was to build algorithms and models that could predict the likelihood that a person develops coronary heart disease (CHD). To do this, we worked with provided data that was sourced from The Framingham Study: An Epidemiological Investigation of Cardiovascular Disease.\n",
        "Our methods of investigating this question started with cleaning the data for consistency and preprocessing the data for model training. This step consisted of addressing missing values by dropping them as well as employing winsorizing to handle outliers. We then explored the new dataset with visualizations like k-density plots and regplots. Combining the insights we had from the visualizations as well as from class, we chose appropriate algorithms based on the problem we were working with and the data characteristics and trained our models. We then evaluated the performance of our models, using R-squared as the performance value, allowing us to gauge which models were more likely to predict the likelihood of a person to develop CHD.\n"
      ],
      "metadata": {
        "id": "Y9pCcxcVnjX6"
      }
    },
    {
      "cell_type": "code",
      "execution_count": null,
      "metadata": {
        "id": "6zgxbTwBl2Ea",
        "outputId": "313ed722-52a5-423f-fa48-b9e6dba00808",
        "colab": {
          "base_uri": "https://localhost:8080/"
        }
      },
      "outputs": [
        {
          "output_type": "stream",
          "name": "stdout",
          "text": [
            "Cloning into 'DS-3001-Projects'...\n",
            "remote: Enumerating objects: 96, done.\u001b[K\n",
            "remote: Counting objects: 100% (96/96), done.\u001b[K\n",
            "remote: Compressing objects: 100% (81/81), done.\u001b[K\n",
            "remote: Total 96 (delta 27), reused 0 (delta 0), pack-reused 0\u001b[K\n",
            "Receiving objects: 100% (96/96), 9.50 MiB | 7.00 MiB/s, done.\n",
            "Resolving deltas: 100% (27/27), done.\n"
          ]
        }
      ],
      "source": [
        "! git clone \"https://github.com/gdbwoo/DS-3001-Projects\""
      ]
    },
    {
      "cell_type": "code",
      "source": [
        "# Import all packages\n",
        "import pandas as pd\n",
        "import numpy as np\n",
        "import seaborn as sns\n",
        "import matplotlib.pyplot as plt\n",
        "# Pipeline tools:\n",
        "from sklearn.pipeline import Pipeline\n",
        "from sklearn.compose import ColumnTransformer\n",
        "from sklearn.model_selection import train_test_split\n",
        "# Variable transformers for cleaning:\n",
        "from sklearn.preprocessing import StandardScaler, OneHotEncoder\n",
        "from sklearn.impute import SimpleImputer\n",
        "# Analytics:\n",
        "from sklearn.tree import DecisionTreeRegressor, DecisionTreeClassifier,plot_tree\n",
        "from sklearn.linear_model import LinearRegression"
      ],
      "metadata": {
        "id": "cFLsIULQmeIb"
      },
      "execution_count": null,
      "outputs": []
    },
    {
      "cell_type": "code",
      "source": [
        "# Grab raw data\n",
        "df = pd.read_csv(\"/content/DS-3001-Projects/Project 2/fhs_train.csv\")\n",
        "print(df.shape)\n",
        "print()"
      ],
      "metadata": {
        "id": "uvjpITZE5OSn",
        "outputId": "7a187f00-e288-43f6-89dd-a53e34e11721",
        "colab": {
          "base_uri": "https://localhost:8080/"
        }
      },
      "execution_count": null,
      "outputs": [
        {
          "output_type": "stream",
          "name": "stdout",
          "text": [
            "(3180, 17)\n",
            "\n"
          ]
        }
      ]
    },
    {
      "cell_type": "markdown",
      "source": [
        "# **Data**"
      ],
      "metadata": {
        "id": "gLnvAmMKpPFy"
      }
    },
    {
      "cell_type": "markdown",
      "source": [
        "The first step that was taken to prepare the data for analysis was removing missing values. Missing values were dropped from both the training and testing data sets. Both data sets maintained a relatively similar train test split proportion after the missing values were dropped. After the missing values were dealt with, we checked for outliers in the data set by plotting boxplots of the numerical predictors. After identifying the outliers using the interquartile range method, we used the winsorizing method to deal with the outliers for further analysis. We used the winsorizing method as opposed to trimming in order to prevent any adverse effects when implementing models and classification techniques. After winsorizing outliers, the data was explored using k-density and regplots. The TenYearCHD variable was plotted using a k-density plot and described using basic counts. The mean of the TenYearCHD variable, from the .describe() function, indicates the proportion of people who have an elevated risk of coronary heart disease. About 15% of the sampled individuals had elevated risk of coronary heart disease. Additional k-density plots were created in order to visualize the relationships between the predictors with TenYearCHD variable. General shapes between the levels of categorical variables and the levels of the TenYearCHD variable were similar and notable differences arose in the magnitude as there were significantly less people with elevated levels of coronary heart disease. Regplots were also deployed to visualize the relationship between the numeric predictors and the TenYearCHD variable. All of the numeric predictors showed a weak relationship with the TenYearCHD variable as apparent by the lack of distinct s-curves to show a strong relationship with regards to a binary variable."
      ],
      "metadata": {
        "id": "MMoNV_dDpRJl"
      }
    },
    {
      "cell_type": "code",
      "source": [
        "# Remove all missing values/na's\n",
        "print(df.isna().sum()) # a lot of na's present in the dataset\n",
        "df = df.dropna() # drop all na's (refer to appendix A for alternative methods attempted)\n",
        "print(df.shape) # observe new dataframe shape\n",
        "print(df.head()) # observe new data"
      ],
      "metadata": {
        "id": "kT8zh9Mb5UxS"
      },
      "execution_count": null,
      "outputs": []
    },
    {
      "cell_type": "code",
      "source": [
        "# Testing data dimensions before and after NA's are dropped\n",
        "df_test = pd.read_csv(\"/content/DS-3001-Projects/Project 2/fhs_test.csv\")\n",
        "print(df_test.shape)\n",
        "df_test = df_test.dropna()\n",
        "print(df_test.shape)"
      ],
      "metadata": {
        "id": "pXpIbvV2Apql"
      },
      "execution_count": null,
      "outputs": []
    },
    {
      "cell_type": "code",
      "source": [
        "# Outlier detection of numeric variables and winsorizing of outliers\n",
        "\n",
        "numeric_only = df.loc[:,['age','cigsPerDay', 'totChol','sysBP',\n",
        "           'diaBP', 'BMI', 'heartRate', 'glucose']]\n",
        "numeric_only.plot.box()\n",
        "plt.xticks(rotation=90)\n",
        "plt.show()\n",
        "def winsorize(x):\n",
        "    # Convert from pd to np, if necessary:\n",
        "    if type(x) == 'pandas.core.series.Series':\n",
        "        x = x.to_numpy()\n",
        "    # Compute IQR and 25, 75 quantiles:\n",
        "    pct25, pct75 = np.percentile(x,[25,75])\n",
        "    iqr = pct75 - pct25\n",
        "    # Compute whiskers:\n",
        "    lower_whisker = pct25 - iqr*1.5\n",
        "    upper_whisker = pct75 + iqr*1.5\n",
        "    # Windorize x:\n",
        "    x_winsor = np.copy(x)\n",
        "    x_winsor[ x < lower_whisker ] = lower_whisker\n",
        "    x_winsor[ x > upper_whisker ] = upper_whisker\n",
        "    return(x_winsor)\n",
        "\n",
        "df['cigsPerDay'] = winsorize(df['cigsPerDay'])\n",
        "df['totChol'] = winsorize(df['totChol'])\n",
        "df['sysBP'] = winsorize(df['sysBP'])\n",
        "df['diaBP'] = winsorize(df['diaBP'])\n",
        "df['BMI'] = winsorize(df['BMI'])\n",
        "df['heartRate'] = winsorize(df['heartRate'])\n",
        "df['glucose'] = winsorize(df['glucose'])\n",
        "\n",
        "# sns.boxplot( winsorize(numeric_only['glucose']))\n",
        "# plt.show()\n",
        "df.plot.box()\n",
        "plt.xticks(rotation=90)\n",
        "plt.show()"
      ],
      "metadata": {
        "id": "qz6Ituyva9yR"
      },
      "execution_count": null,
      "outputs": []
    },
    {
      "cell_type": "code",
      "source": [
        "# Response Variable plot\n",
        "sns.kdeplot(df,x=\"TenYearCHD\")\n",
        "print(df['TenYearCHD'].describe())\n",
        "df['TenYearCHD'].value_counts()"
      ],
      "metadata": {
        "id": "SjgXf73j3gW9"
      },
      "execution_count": null,
      "outputs": []
    },
    {
      "cell_type": "code",
      "source": [
        "# Main EDA visualizations (Density Plots)\n",
        "\n",
        "sns.kdeplot(data=df,x='age',hue='TenYearCHD')\n",
        "plt.show()\n",
        "sns.kdeplot(data=df,x='sex',hue='TenYearCHD')\n",
        "plt.show()\n",
        "sns.kdeplot(data=df,x='education',hue='TenYearCHD')\n",
        "plt.show()\n",
        "sns.kdeplot(data=df,x='currentSmoker',hue='TenYearCHD')\n",
        "plt.show()\n",
        "sns.kdeplot(data=df,x='cigsPerDay',hue='TenYearCHD')\n",
        "plt.show()\n",
        "sns.kdeplot(data=df,x='BPMeds',hue='TenYearCHD')\n",
        "plt.show()\n",
        "sns.kdeplot(data=df,x='prevalentStroke',hue='TenYearCHD')\n",
        "plt.show()\n",
        "sns.kdeplot(data=df,x='prevalentHyp',hue='TenYearCHD')\n",
        "plt.show()\n",
        "sns.kdeplot(data=df,x='diabetes',hue='TenYearCHD')\n",
        "plt.show()\n",
        "sns.kdeplot(data=df,x='totChol',hue='TenYearCHD')\n",
        "plt.show()\n",
        "sns.kdeplot(data=df,x='sysBP',hue='TenYearCHD')\n",
        "plt.show()\n",
        "sns.kdeplot(data=df,x='diaBP',hue='TenYearCHD')\n",
        "plt.show()\n",
        "sns.kdeplot(data=df,x='BMI',hue='TenYearCHD')\n",
        "plt.show()\n",
        "sns.kdeplot(data=df,x='heartRate',hue='TenYearCHD')\n",
        "plt.show()\n",
        "sns.kdeplot(data=df,x='glucose',hue='TenYearCHD')\n",
        "plt.show()\n"
      ],
      "metadata": {
        "id": "eetBEmYAt4iD"
      },
      "execution_count": null,
      "outputs": []
    },
    {
      "cell_type": "code",
      "source": [
        "# Finalize data from Pandas:\n",
        "\n",
        "# Training\n",
        "y = df['TenYearCHD']\n",
        "\n",
        "Z = df.loc[:,['sex', 'age', 'education', 'currentSmoker', 'cigsPerDay',\n",
        "       'BPMeds', 'prevalentStroke', 'prevalentHyp', 'diabetes', 'totChol',\n",
        "       'sysBP', 'diaBP', 'BMI', 'heartRate', 'glucose']]\n",
        "\n",
        "\n",
        "# Testing\n",
        "y_test= df_test[\"TenYearCHD\"]\n",
        "\n",
        "X_test = df_test.loc[:,['sex', 'age', 'education', 'currentSmoker', 'cigsPerDay',\n",
        "       'BPMeds', 'prevalentStroke', 'prevalentHyp', 'diabetes', 'totChol',\n",
        "       'sysBP', 'diaBP', 'BMI', 'heartRate', 'glucose']]\n",
        "\n",
        "\n",
        "# Set up variable preprocessing:\n",
        "cat_vars = ['sex','education','currentSmoker','BPMeds',\n",
        "           'prevalentStroke','prevalentHyp','diabetes'] # List of categorical variables\n",
        "num_vars = ['age','cigsPerDay', 'totChol','sysBP',\n",
        "           'diaBP', 'BMI', 'heartRate', 'glucose'] # List of numeric variables\n",
        "\n",
        "cat_pipeline = Pipeline(steps = [('ohc', OneHotEncoder(sparse_output=False))]) # One hot encoding\n",
        "num_pipeline = Pipeline(steps = [('maxmin', StandardScaler()) # Maxmin scaling\n",
        "                                 ])\n",
        "\n",
        "# Column transformer:\n",
        "preprocessor = ColumnTransformer(\n",
        "    transformers = [('cat', cat_pipeline, cat_vars), # Transform cat_vars by cat_pipeline\n",
        "                    ('num', num_pipeline, num_vars)]) # Transform num_vars by num_pipeline\n",
        "\n",
        "# Create model-specific pipelines:\n",
        "lm_pipe = Pipeline(steps=[('preprocessor', preprocessor),\n",
        "                ('linreg', LinearRegression(fit_intercept=False))]) # Link preprocessor to model\n",
        "tree_pipe = Pipeline(steps=[('preprocessor', preprocessor),\n",
        "                ('tree', DecisionTreeRegressor(max_depth = 6))]) # Link preprocessor to model\n",
        "\n",
        "# Train-test split: (This step not needed since our datasets are already divided by training and testing)\n",
        "#X_train, X_test, y_train, y_test = train_test_split(Z, y, # Feature and target variables\n",
        "#                                                    test_size=.2) # For replication purposes\n",
        "\n",
        "# Fit the models:\n",
        "lm = lm_pipe.fit(Z, y)\n",
        "tree = tree_pipe.fit(Z, y)\n",
        "\n",
        "# Linear Results on Train\n",
        "print('Linear Model rsq: ', lm.score(Z, y) ) # R-squared\n",
        "print(lm.named_steps['linreg'].coef_) # Regression coefficients\n",
        "\n",
        "# Tree Results on Train\n",
        "print('Tree rsq: ', tree.score(Z, y) )"
      ],
      "metadata": {
        "id": "4j9Jeeu-4mhA",
        "outputId": "bdfb54fe-d59c-4929-c5a1-bff469963a30",
        "colab": {
          "base_uri": "https://localhost:8080/",
          "height": 317
        }
      },
      "execution_count": null,
      "outputs": [
        {
          "output_type": "stream",
          "name": "stdout",
          "text": [
            "Linear Model rsq:  0.09524148525542797\n",
            "[-1.03981940e+12 -1.03981940e+12 -2.11076272e+12 -2.11076272e+12\n",
            " -2.11076272e+12 -2.11076272e+12 -4.29479729e+12 -4.29479729e+12\n",
            "  3.92535004e+12  3.92535004e+12  2.88953033e+12  2.88953033e+12\n",
            " -2.05356207e+12 -2.05356207e+12  2.68406110e+12  2.68406110e+12\n",
            "  6.10193119e-02  3.32641602e-02  1.12762451e-02  5.15518188e-02\n",
            " -1.89666748e-02 -4.93621826e-03  1.51062012e-03  5.68771362e-03]\n",
            "Tree rsq:  0.2321684351230866\n",
            "Accuracy:  0.7571115973741794 \n",
            "\n"
          ]
        },
        {
          "output_type": "execute_result",
          "data": {
            "text/plain": [
              "col_0         0   1\n",
              "TenYearCHD         \n",
              "0           766  15\n",
              "1           123  10"
            ],
            "text/html": [
              "\n",
              "  <div id=\"df-3f5a9f15-07b9-49a5-9bdd-7daef298e720\" class=\"colab-df-container\">\n",
              "    <div>\n",
              "<style scoped>\n",
              "    .dataframe tbody tr th:only-of-type {\n",
              "        vertical-align: middle;\n",
              "    }\n",
              "\n",
              "    .dataframe tbody tr th {\n",
              "        vertical-align: top;\n",
              "    }\n",
              "\n",
              "    .dataframe thead th {\n",
              "        text-align: right;\n",
              "    }\n",
              "</style>\n",
              "<table border=\"1\" class=\"dataframe\">\n",
              "  <thead>\n",
              "    <tr style=\"text-align: right;\">\n",
              "      <th>col_0</th>\n",
              "      <th>0</th>\n",
              "      <th>1</th>\n",
              "    </tr>\n",
              "    <tr>\n",
              "      <th>TenYearCHD</th>\n",
              "      <th></th>\n",
              "      <th></th>\n",
              "    </tr>\n",
              "  </thead>\n",
              "  <tbody>\n",
              "    <tr>\n",
              "      <th>0</th>\n",
              "      <td>766</td>\n",
              "      <td>15</td>\n",
              "    </tr>\n",
              "    <tr>\n",
              "      <th>1</th>\n",
              "      <td>123</td>\n",
              "      <td>10</td>\n",
              "    </tr>\n",
              "  </tbody>\n",
              "</table>\n",
              "</div>\n",
              "    <div class=\"colab-df-buttons\">\n",
              "\n",
              "  <div class=\"colab-df-container\">\n",
              "    <button class=\"colab-df-convert\" onclick=\"convertToInteractive('df-3f5a9f15-07b9-49a5-9bdd-7daef298e720')\"\n",
              "            title=\"Convert this dataframe to an interactive table.\"\n",
              "            style=\"display:none;\">\n",
              "\n",
              "  <svg xmlns=\"http://www.w3.org/2000/svg\" height=\"24px\" viewBox=\"0 -960 960 960\">\n",
              "    <path d=\"M120-120v-720h720v720H120Zm60-500h600v-160H180v160Zm220 220h160v-160H400v160Zm0 220h160v-160H400v160ZM180-400h160v-160H180v160Zm440 0h160v-160H620v160ZM180-180h160v-160H180v160Zm440 0h160v-160H620v160Z\"/>\n",
              "  </svg>\n",
              "    </button>\n",
              "\n",
              "  <style>\n",
              "    .colab-df-container {\n",
              "      display:flex;\n",
              "      gap: 12px;\n",
              "    }\n",
              "\n",
              "    .colab-df-convert {\n",
              "      background-color: #E8F0FE;\n",
              "      border: none;\n",
              "      border-radius: 50%;\n",
              "      cursor: pointer;\n",
              "      display: none;\n",
              "      fill: #1967D2;\n",
              "      height: 32px;\n",
              "      padding: 0 0 0 0;\n",
              "      width: 32px;\n",
              "    }\n",
              "\n",
              "    .colab-df-convert:hover {\n",
              "      background-color: #E2EBFA;\n",
              "      box-shadow: 0px 1px 2px rgba(60, 64, 67, 0.3), 0px 1px 3px 1px rgba(60, 64, 67, 0.15);\n",
              "      fill: #174EA6;\n",
              "    }\n",
              "\n",
              "    .colab-df-buttons div {\n",
              "      margin-bottom: 4px;\n",
              "    }\n",
              "\n",
              "    [theme=dark] .colab-df-convert {\n",
              "      background-color: #3B4455;\n",
              "      fill: #D2E3FC;\n",
              "    }\n",
              "\n",
              "    [theme=dark] .colab-df-convert:hover {\n",
              "      background-color: #434B5C;\n",
              "      box-shadow: 0px 1px 3px 1px rgba(0, 0, 0, 0.15);\n",
              "      filter: drop-shadow(0px 1px 2px rgba(0, 0, 0, 0.3));\n",
              "      fill: #FFFFFF;\n",
              "    }\n",
              "  </style>\n",
              "\n",
              "    <script>\n",
              "      const buttonEl =\n",
              "        document.querySelector('#df-3f5a9f15-07b9-49a5-9bdd-7daef298e720 button.colab-df-convert');\n",
              "      buttonEl.style.display =\n",
              "        google.colab.kernel.accessAllowed ? 'block' : 'none';\n",
              "\n",
              "      async function convertToInteractive(key) {\n",
              "        const element = document.querySelector('#df-3f5a9f15-07b9-49a5-9bdd-7daef298e720');\n",
              "        const dataTable =\n",
              "          await google.colab.kernel.invokeFunction('convertToInteractive',\n",
              "                                                    [key], {});\n",
              "        if (!dataTable) return;\n",
              "\n",
              "        const docLinkHtml = 'Like what you see? Visit the ' +\n",
              "          '<a target=\"_blank\" href=https://colab.research.google.com/notebooks/data_table.ipynb>data table notebook</a>'\n",
              "          + ' to learn more about interactive tables.';\n",
              "        element.innerHTML = '';\n",
              "        dataTable['output_type'] = 'display_data';\n",
              "        await google.colab.output.renderOutput(dataTable, element);\n",
              "        const docLink = document.createElement('div');\n",
              "        docLink.innerHTML = docLinkHtml;\n",
              "        element.appendChild(docLink);\n",
              "      }\n",
              "    </script>\n",
              "  </div>\n",
              "\n",
              "\n",
              "<div id=\"df-4c12095a-9acf-426d-bf2a-dfc780153ddc\">\n",
              "  <button class=\"colab-df-quickchart\" onclick=\"quickchart('df-4c12095a-9acf-426d-bf2a-dfc780153ddc')\"\n",
              "            title=\"Suggest charts\"\n",
              "            style=\"display:none;\">\n",
              "\n",
              "<svg xmlns=\"http://www.w3.org/2000/svg\" height=\"24px\"viewBox=\"0 0 24 24\"\n",
              "     width=\"24px\">\n",
              "    <g>\n",
              "        <path d=\"M19 3H5c-1.1 0-2 .9-2 2v14c0 1.1.9 2 2 2h14c1.1 0 2-.9 2-2V5c0-1.1-.9-2-2-2zM9 17H7v-7h2v7zm4 0h-2V7h2v10zm4 0h-2v-4h2v4z\"/>\n",
              "    </g>\n",
              "</svg>\n",
              "  </button>\n",
              "\n",
              "<style>\n",
              "  .colab-df-quickchart {\n",
              "      --bg-color: #E8F0FE;\n",
              "      --fill-color: #1967D2;\n",
              "      --hover-bg-color: #E2EBFA;\n",
              "      --hover-fill-color: #174EA6;\n",
              "      --disabled-fill-color: #AAA;\n",
              "      --disabled-bg-color: #DDD;\n",
              "  }\n",
              "\n",
              "  [theme=dark] .colab-df-quickchart {\n",
              "      --bg-color: #3B4455;\n",
              "      --fill-color: #D2E3FC;\n",
              "      --hover-bg-color: #434B5C;\n",
              "      --hover-fill-color: #FFFFFF;\n",
              "      --disabled-bg-color: #3B4455;\n",
              "      --disabled-fill-color: #666;\n",
              "  }\n",
              "\n",
              "  .colab-df-quickchart {\n",
              "    background-color: var(--bg-color);\n",
              "    border: none;\n",
              "    border-radius: 50%;\n",
              "    cursor: pointer;\n",
              "    display: none;\n",
              "    fill: var(--fill-color);\n",
              "    height: 32px;\n",
              "    padding: 0;\n",
              "    width: 32px;\n",
              "  }\n",
              "\n",
              "  .colab-df-quickchart:hover {\n",
              "    background-color: var(--hover-bg-color);\n",
              "    box-shadow: 0 1px 2px rgba(60, 64, 67, 0.3), 0 1px 3px 1px rgba(60, 64, 67, 0.15);\n",
              "    fill: var(--button-hover-fill-color);\n",
              "  }\n",
              "\n",
              "  .colab-df-quickchart-complete:disabled,\n",
              "  .colab-df-quickchart-complete:disabled:hover {\n",
              "    background-color: var(--disabled-bg-color);\n",
              "    fill: var(--disabled-fill-color);\n",
              "    box-shadow: none;\n",
              "  }\n",
              "\n",
              "  .colab-df-spinner {\n",
              "    border: 2px solid var(--fill-color);\n",
              "    border-color: transparent;\n",
              "    border-bottom-color: var(--fill-color);\n",
              "    animation:\n",
              "      spin 1s steps(1) infinite;\n",
              "  }\n",
              "\n",
              "  @keyframes spin {\n",
              "    0% {\n",
              "      border-color: transparent;\n",
              "      border-bottom-color: var(--fill-color);\n",
              "      border-left-color: var(--fill-color);\n",
              "    }\n",
              "    20% {\n",
              "      border-color: transparent;\n",
              "      border-left-color: var(--fill-color);\n",
              "      border-top-color: var(--fill-color);\n",
              "    }\n",
              "    30% {\n",
              "      border-color: transparent;\n",
              "      border-left-color: var(--fill-color);\n",
              "      border-top-color: var(--fill-color);\n",
              "      border-right-color: var(--fill-color);\n",
              "    }\n",
              "    40% {\n",
              "      border-color: transparent;\n",
              "      border-right-color: var(--fill-color);\n",
              "      border-top-color: var(--fill-color);\n",
              "    }\n",
              "    60% {\n",
              "      border-color: transparent;\n",
              "      border-right-color: var(--fill-color);\n",
              "    }\n",
              "    80% {\n",
              "      border-color: transparent;\n",
              "      border-right-color: var(--fill-color);\n",
              "      border-bottom-color: var(--fill-color);\n",
              "    }\n",
              "    90% {\n",
              "      border-color: transparent;\n",
              "      border-bottom-color: var(--fill-color);\n",
              "    }\n",
              "  }\n",
              "</style>\n",
              "\n",
              "  <script>\n",
              "    async function quickchart(key) {\n",
              "      const quickchartButtonEl =\n",
              "        document.querySelector('#' + key + ' button');\n",
              "      quickchartButtonEl.disabled = true;  // To prevent multiple clicks.\n",
              "      quickchartButtonEl.classList.add('colab-df-spinner');\n",
              "      try {\n",
              "        const charts = await google.colab.kernel.invokeFunction(\n",
              "            'suggestCharts', [key], {});\n",
              "      } catch (error) {\n",
              "        console.error('Error during call to suggestCharts:', error);\n",
              "      }\n",
              "      quickchartButtonEl.classList.remove('colab-df-spinner');\n",
              "      quickchartButtonEl.classList.add('colab-df-quickchart-complete');\n",
              "    }\n",
              "    (() => {\n",
              "      let quickchartButtonEl =\n",
              "        document.querySelector('#df-4c12095a-9acf-426d-bf2a-dfc780153ddc button');\n",
              "      quickchartButtonEl.style.display =\n",
              "        google.colab.kernel.accessAllowed ? 'block' : 'none';\n",
              "    })();\n",
              "  </script>\n",
              "</div>\n",
              "    </div>\n",
              "  </div>\n"
            ],
            "application/vnd.google.colaboratory.intrinsic+json": {
              "type": "dataframe",
              "summary": "{\n  \"name\": \"pd\",\n  \"rows\": 2,\n  \"fields\": [\n    {\n      \"column\": \"TenYearCHD\",\n      \"properties\": {\n        \"dtype\": \"number\",\n        \"std\": 0,\n        \"min\": 0,\n        \"max\": 1,\n        \"num_unique_values\": 2,\n        \"samples\": [\n          1,\n          0\n        ],\n        \"semantic_type\": \"\",\n        \"description\": \"\"\n      }\n    },\n    {\n      \"column\": 0,\n      \"properties\": {\n        \"dtype\": \"number\",\n        \"std\": 454,\n        \"min\": 123,\n        \"max\": 766,\n        \"num_unique_values\": 2,\n        \"samples\": [\n          123,\n          766\n        ],\n        \"semantic_type\": \"\",\n        \"description\": \"\"\n      }\n    },\n    {\n      \"column\": 1,\n      \"properties\": {\n        \"dtype\": \"number\",\n        \"std\": 3,\n        \"min\": 10,\n        \"max\": 15,\n        \"num_unique_values\": 2,\n        \"samples\": [\n          10,\n          15\n        ],\n        \"semantic_type\": \"\",\n        \"description\": \"\"\n      }\n    }\n  ]\n}"
            }
          },
          "metadata": {},
          "execution_count": 22
        }
      ]
    },
    {
      "cell_type": "code",
      "source": [
        "# Extract results:\n",
        "\n",
        "# Linear Results on Test\n",
        "print('Linear Model rsq: ', lm.score(X_test, y_test) ) # R-squared\n",
        "print(lm.named_steps['linreg'].coef_) # Regression coefficients\n",
        "y_hat_lm = lm.predict(X_test) # Predicted values\n",
        "\n",
        "# Tree Results on Test\n",
        "print('Tree rsq: ', tree.score(X_test, y_test) ) # R-squared\n",
        "y_hat_tree = tree.predict(X_test)\n",
        "\n",
        "# Plot\n",
        "sns.scatterplot(x=y_hat_lm, y=y_hat_tree)\n",
        "plt.show()"
      ],
      "metadata": {
        "id": "R1NLniW9-fBi",
        "outputId": "aedf9bc4-2f9b-492c-ade4-a031ed5b1244",
        "colab": {
          "base_uri": "https://localhost:8080/",
          "height": 569
        }
      },
      "execution_count": null,
      "outputs": [
        {
          "output_type": "stream",
          "name": "stdout",
          "text": [
            "Linear Model rsq:  0.08692509724670894\n",
            "[-1.03981940e+12 -1.03981940e+12 -2.11076272e+12 -2.11076272e+12\n",
            " -2.11076272e+12 -2.11076272e+12 -4.29479729e+12 -4.29479729e+12\n",
            "  3.92535004e+12  3.92535004e+12  2.88953033e+12  2.88953033e+12\n",
            " -2.05356207e+12 -2.05356207e+12  2.68406110e+12  2.68406110e+12\n",
            "  6.10193119e-02  3.32641602e-02  1.12762451e-02  5.15518188e-02\n",
            " -1.89666748e-02 -4.93621826e-03  1.51062012e-03  5.68771362e-03]\n",
            "Tree rsq:  -0.002072798097890516\n"
          ]
        },
        {
          "output_type": "display_data",
          "data": {
            "text/plain": [
              "<Figure size 640x480 with 1 Axes>"
            ],
            "image/png": "[encoded data removed]"
          },
          "metadata": {}
        }
      ]
    },
    {
      "cell_type": "markdown",
      "source": [
        "# **Results**"
      ],
      "metadata": {
        "id": "KJNHGy_ZpZ5o"
      }
    },
    {
      "cell_type": "markdown",
      "source": [
        "After cleaning our data, we began the process of using the tools we learned in class to try to predict the likelihood of a person developing coronary heart disease. We started by using a multiple linear regression model with the variable ‘TenYearCHD’ as our target variable. We tried various combinations of our predictor variables to try to find the ones that would result in the highest R-squared value. The combinations we tried included using the top predictive variables according to science out of the ones we were given, categorical variables, and numeric variables. We tested each of these individually, but all of them resulted in worse model performance as the R-squared value was lower and significantly less than 0.1 . Eventually, we settled on using all of the variables from the dataset, resulting in an R-squared value of 0.0869 for our linear model. We also used a decision tree, resulting in an R-squared value of -0.0021. We found these results quite interesting since our training dataset with the linear regression performed with an R-squared value of 0.0952 while the decision tree performed better with an R-squared value of 0.232. However, in general, our models are not the most accurate in terms of predicting the likelihood of coronary heart disease. Some ways we could improve our project in the future are by selecting different variables, using different models, or cleaning the data differently for our analysis.\n",
        "Likewise, our tables, plots, and statistics also do not contribute significantly to support our conclusion. Because of the binary nature of some of the variables, it also made it difficult to make easily understandable visualizations. We did attempt to make kernel density plots, choosing various variables for the x-variable with TenYearCHD as the y-variable. However, the kernel density plots failed to indicate any significant patterns, similar to our conclusions for our linear regression and tree models. Regplots were also implemented to explore the relationships of the predictors with the response variable. However, no significant relationships were found either.  \n",
        "Regarding our research strategy, we did carry out the process correctly by cleaning our data and then creating our models. We also tried many different iterations of our research strategy, changing things each time to try to improve the process. Despite our efforts, we still did not have the result that we were hoping for, which was an R-squared value of above 0.3. Therefore, it is a bit difficult to try to interpret our results and form data-backed conclusions. Because our research strategy failed, our team spent some time discussing what we could do in the future to improve our results. Starting with the data, we wonder if part of the difficulty of the process came from the variables themselves. The dataset had quite a few binary variables, which may have affected our results. Finally, this was our first time attempting a project like this. There are many skills that we are unfamiliar with; and, we believe that if we were more experienced with the concepts and tools the results of our analysis would have a clearer conclusion.\n"
      ],
      "metadata": {
        "id": "F9_vxAzApcDx"
      }
    },
    {
      "cell_type": "markdown",
      "source": [
        "# **Conclusion**"
      ],
      "metadata": {
        "id": "twBnVM9Gpc9R"
      }
    },
    {
      "cell_type": "markdown",
      "source": [
        "To summarize, our group’s goal for this project was to build algorithms and models that could predict the likelihood that a person develops coronary heart disease (CHD). We worked with provided data that was sourced from The Framingham Study: An Epidemiological Investigation of Cardiovascular Disease. Our methods of investigating this question consisted of cleaning and preprocessing the data, visualizing the data, choosing appropriate algorithms, training the models, and finally evaluating the performance of the models.\n",
        "Despite our consistent experimentation and employment of alternative methods within our processes, the performance of our models were quite low, being around or less than 0.1, indicating that they are weak predictors of the likelihood that a person develops CHD. Our team concluded that we may need to either transform/clean the variables differently or experiment with different models. However, we also concluded that there is quite a limitation to this dataset which contributed to our low model performance and R-squared value because of a large majority of the dataset having binary variables, greatly affecting our results.\n",
        "There is still much more that can be done beyond the scope of our project. Further work include using additional tools on the data such as bagging, boosting, stacking to improve performance of models, using different models and algorithms, not only finding outliers, but also setting a criteria for the possibly the removal of outliers if needed, and working with a larger dataset with possibly more variables in play to name a few.\n"
      ],
      "metadata": {
        "id": "WgRPO9a0pegR"
      }
    },
    {
      "cell_type": "markdown",
      "source": [
        "# **Appendix**"
      ],
      "metadata": {
        "id": "9ECaClCBRjKF"
      }
    },
    {
      "cell_type": "markdown",
      "source": [
        "Alternative attempts/methods that resulted in lower model performance"
      ],
      "metadata": {
        "id": "hdsUhp8xRvv4"
      }
    },
    {
      "cell_type": "code",
      "source": [
        "# A\n",
        "\n",
        "# Instead of dropping all missing values/na's:\n",
        "\n",
        "# Remove all missing values/na's from categorical variables\n",
        "# df.dropna(subset = ['sex','education','currentSmoker','BPMeds', 'prevalentStroke','prevalentHyp','diabetes'], inplace=True)\n",
        "\n",
        "# Impute all numerical variables with median\n",
        "# df['age'] = df['age'].fillna(df['age'].median())\n",
        "# df['cigsPerDay'] = df['cigsPerDay'].fillna(df['cigsPerDay'].median())\n",
        "# df['totChol'] = df['totChol'].fillna(df['totChol'].median())\n",
        "# df['sysBP'] = df['sysBP'].fillna(df['sysBP'].median())\n",
        "# df['diaBP'] = df['diaBP'].fillna(df['diaBP'].median())\n",
        "# df['BMI'] = df['BMI'].fillna(df['BMI'].median())\n",
        "# df['heartRate'] = df['heartRate'].fillna(df['heartRate'].median())\n",
        "# df['glucose'] = df['glucose'].fillna(df['glucose'].median())"
      ],
      "metadata": {
        "id": "SsfF5YSrRl8H"
      },
      "execution_count": null,
      "outputs": []
    },
    {
      "cell_type": "code",
      "source": [
        "# B\n",
        "\n",
        "# Instead of Z containing all variables at the finalizing data from pandas step, only use the categorical data or only use the numerical data:\n",
        "\n",
        "# Z = df.loc[:,['age','cigsPerDay','totChol', 'sysBP', 'diaBP', 'BMI', 'heartRate', 'glucose']] # num\n",
        "# Z = df.loc[:,['sex', 'education', 'currentSmoker', 'BPMeds', 'prevalentStroke', 'prevalentHyp', 'diabetes']] # cat\n",
        "\n",
        "# preprocessor = ColumnTransformer(\n",
        "#      transformers = [ # Transform cat_vars by cat_pipeline\n",
        "#                      ('num', num_pipeline, num_vars)])\n",
        "\n",
        "# preprocessor = ColumnTransformer(\n",
        "#      transformers = [ # Transform cat_vars by cat_pipeline\n",
        "#                      ('cat', cat_pipeline, cat_vars)])"
      ],
      "metadata": {
        "id": "GqCuBYymSvXo"
      },
      "execution_count": null,
      "outputs": []
    },
    {
      "cell_type": "code",
      "source": [
        "# C\n",
        "\n",
        "# Instead of dividing between cat and num and processing through their own pipelines, process all variables into one pipeline:\n",
        "\n",
        "# vars = ['sex', 'age', 'education', 'currentSmoker', 'cigsPerDay',\n",
        "#        'BPMeds', 'prevalentStroke', 'prevalentHyp', 'diabetes', 'totChol',\n",
        "#        'sysBP', 'diaBP', 'BMI', 'heartRate', 'glucose']\n",
        "\n",
        "# pipeline = Pipeline(steps = [('maxmin', StandardScaler()) # Maxmin scaling\n",
        "# ])\n",
        "\n",
        "# preprocessor = ColumnTransformer(\n",
        "#     transformers = [('catnum', pipeline, vars)])"
      ],
      "metadata": {
        "id": "_vByTAL2U89c"
      },
      "execution_count": null,
      "outputs": []
    },
    {
      "cell_type": "code",
      "source": [
        "# D\n",
        "\n",
        "# Used OLS method and looked at significance of variables to use only most significant ones\n",
        "\n",
        "# import statsmodels.api as sm\n",
        "\n",
        "# # Create your model\n",
        "# X = df.loc[:,['sex','age','cigsPerDay',\"totChol\",'sysBP']]\n",
        "# y = df['TenYearCHD']\n",
        "# X = sm.add_constant(X) # Add a constant term if needed\n",
        "# model = sm.OLS(y, X).fit()\n",
        "\n",
        "# # Get the summary\n",
        "# print(model.summary())"
      ],
      "metadata": {
        "id": "3lAdRkZkXzsk"
      },
      "execution_count": null,
      "outputs": []
    },
    {
      "cell_type": "code",
      "source": [
        "# E\n",
        "\n",
        "# Tried it with variables that showed a relationship between TenYearCHD\n",
        "\n",
        "# Z = df.loc[:,['age','cigsPerDay']]\n",
        "# y = df['TenYearCHD']\n",
        "# X_test = df_test.loc[:,['age','cigsPerDay']]\n",
        "# y_test = df_test['TenYearCHD']\n",
        "\n",
        "# #cat_vars = ['education']\n",
        "# num_vars = ['age','cigsPerDay']\n",
        "\n",
        "\n",
        "# #cat_pipeline = Pipeline(steps = [('ohc', OneHotEncoder(sparse_output=False))]) # One hot encoding\n",
        "# num_pipeline = Pipeline(steps = [('maxmin', StandardScaler()) # Maxmin scaling\n",
        "#                                  ])\n",
        "# preprocessor = ColumnTransformer(\n",
        "#     transformers = [#('cat', cat_pipeline, cat_vars), # Transform cat_vars by cat_pipeline\n",
        "#                     ('num', num_pipeline, num_vars)])\n",
        "\n",
        "# lm_pipe = Pipeline(steps=[('preprocessor', preprocessor),\n",
        "#                 ('linreg', LinearRegression(fit_intercept=False))])\n",
        "# lm = lm_pipe.fit(Z, y)\n",
        "# print('Linear Model rsq: ', lm.score(X_test, y_test))"
      ],
      "metadata": {
        "id": "MjwZgazSohW2"
      },
      "execution_count": null,
      "outputs": []
    },
    {
      "cell_type": "code",
      "source": [
        "# F\n",
        "\n",
        "# Finalize data from Pandas:\n",
        "# df\n",
        "\n",
        "# # y = df['TenYearCHD']\n",
        "\n",
        "# # Z = df.loc[:,['sex', 'age', 'education', 'currentSmoker', 'cigsPerDay',\n",
        "# #        'BPMeds', 'prevalentStroke', 'prevalentHyp', 'diabetes', 'totChol',\n",
        "# #        'sysBP', 'diaBP', 'BMI', 'heartRate', 'glucose']]\n",
        "\n",
        "# # x = df.loc[:,['age','cigsPerDay','totChol', 'sysBP', 'diaBP', 'BMI', 'heartRate', 'glucose']]\n",
        "\n",
        "\n",
        "# df_logit = pd.get_dummies(df, columns=['sex','education','currentSmoker','BPMeds','prevalentStroke','prevalentHyp','diabetes'], drop_first=True)\n",
        "\n",
        "# # #view updated DataFrame\n",
        "\n",
        "# df_logit= df_logit.astype(int)\n",
        "\n",
        "# df_logit\n",
        "# df_logit.columns.unique()\n",
        "\n",
        "# y = df_logit['TenYearCHD']\n",
        "# x = df_logit[['age', 'cigsPerDay', 'totChol', 'sysBP', 'diaBP', 'BMI', 'heartRate',\n",
        "#        'glucose', 'sex_1', 'education_2.0', 'education_3.0', 'education_4.0',\n",
        "#        'currentSmoker_1', 'BPMeds_1.0', 'prevalentStroke_1', 'prevalentHyp_1',\n",
        "#        'diabetes_1']]\n",
        "\n",
        "\n",
        "# x = sm.add_constant(x)\n",
        "\n",
        "# #fit regression model\n",
        "# model = sm.OLS(y, x).fit()\n",
        "\n",
        "# #view summary of model fit\n",
        "# print(model.summary())\n",
        "\n",
        "# logit_model = sm.Logit(y, x)\n",
        "# result = logit_model.fit()\n",
        "# print(result.summary())"
      ],
      "metadata": {
        "id": "grGVqbp3ozo5"
      },
      "execution_count": null,
      "outputs": []
    },
    {
      "cell_type": "code",
      "source": [
        "# G\n",
        "\n",
        "# Tried out decision tree classification\n",
        "\n",
        "# tree_pipe_2 = Pipeline(steps=[('preprocessor', preprocessor),\n",
        "#                 ('tree', DecisionTreeClassifier(max_depth = 6))])\n",
        "\n",
        "# tree_pipe_2 = tree_pipe_2.fit(Z, y)\n",
        "\n",
        "# y_hat_tree = tree_pipe_2.predict(X_test)\n",
        "\n",
        "# ## Confusion Matrix\n",
        "# tab = pd.crosstab(y_test,y) # Compute confusion matrix\n",
        "# acc = np.trace(tab)/np.sum(np.sum(tab,axis=0)) # Faster way to compute accuracy\n",
        "# print('Accuracy: ', acc, '\\n')\n",
        "# pd.crosstab(y_test,y_hat_tree)"
      ],
      "metadata": {
        "id": "EHs_8Sg0tAwC"
      },
      "execution_count": null,
      "outputs": []
    },
    {
      "cell_type": "code",
      "source": [
        "# H\n",
        "\n",
        "# Looked at relationships of predictors with response using regplots\n",
        "# sns.regplot(data=df,x=\"age\",y=\"TenYearCHD\", logistic=True, ci=None)\n",
        "# plt.show()\n",
        "# sns.regplot(data=df,x=\"cigsPerDay\",y=\"TenYearCHD\", logistic=True, ci=None)\n",
        "# plt.show()\n",
        "# sns.regplot(data=df,x=\"totChol\",y=\"TenYearCHD\", logistic=True, ci=None)\n",
        "# plt.show()\n",
        "# sns.regplot(data=df,x=\"sysBP\",y=\"TenYearCHD\", logistic=True, ci=None)\n",
        "# plt.show()\n",
        "# sns.regplot(data=df,x=\"diaBP\",y=\"TenYearCHD\", logistic=True, ci=None)\n",
        "# plt.show()\n",
        "# sns.regplot(data=df,x=\"BMI\",y=\"TenYearCHD\", logistic=True, ci=None)\n",
        "# plt.show()\n",
        "# sns.regplot(data=df,x=\"heartRate\",y=\"TenYearCHD\", logistic=True, ci=None)\n",
        "# plt.show()\n",
        "# sns.regplot(data=df,x=\"glucose\",y=\"TenYearCHD\", logistic=True, ci=None)\n",
        "# plt.show()"
      ],
      "metadata": {
        "id": "jdJgYNqeqRP_"
      },
      "execution_count": null,
      "outputs": []
    }
  ]
}
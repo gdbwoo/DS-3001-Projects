{
  "nbformat": 4,
  "nbformat_minor": 0,
  "metadata": {
    "colab": {
      "provenance": []
    },
    "kernelspec": {
      "name": "python3",
      "display_name": "Python 3"
    },
    "language_info": {
      "name": "python"
    }
  },
  "cells": [
    {
      "cell_type": "code",
      "execution_count": null,
      "metadata": {
        "id": "6zgxbTwBl2Ea"
      },
      "outputs": [],
      "source": [
        "! git clone \"https://github.com/gdbwoo/DS-3001-Projects\""
      ]
    }
  ]
}
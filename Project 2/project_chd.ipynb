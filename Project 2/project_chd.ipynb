{
  "nbformat": 4,
  "nbformat_minor": 0,
  "metadata": {
    "colab": {
      "provenance": []
    },
    "kernelspec": {
      "name": "python3",
      "display_name": "Python 3"
    },
    "language_info": {
      "name": "python"
    }
  },
  "cells": [
    {
      "cell_type": "code",
      "execution_count": 1,
      "metadata": {
        "id": "6zgxbTwBl2Ea",
        "outputId": "94dbb60a-0456-483c-aa56-88dde3c783be",
        "colab": {
          "base_uri": "https://localhost:8080/"
        }
      },
      "outputs": [
        {
          "output_type": "stream",
          "name": "stdout",
          "text": [
            "Cloning into 'DS-3001-Projects'...\n",
            "remote: Enumerating objects: 88, done.\u001b[K\n",
            "remote: Counting objects: 100% (88/88), done.\u001b[K\n",
            "remote: Compressing objects: 100% (73/73), done.\u001b[K\n",
            "remote: Total 88 (delta 24), reused 0 (delta 0), pack-reused 0\u001b[K\n",
            "Receiving objects: 100% (88/88), 8.79 MiB | 5.91 MiB/s, done.\n",
            "Resolving deltas: 100% (24/24), done.\n"
          ]
        }
      ],
      "source": [
        "! git clone \"https://github.com/gdbwoo/DS-3001-Projects\""
      ]
    },
    {
      "cell_type": "code",
      "source": [
        "# Import all packages\n",
        "import pandas as pd\n",
        "import numpy as np\n",
        "import seaborn as sns\n",
        "import matplotlib.pyplot as plt\n",
        "\n",
        "# Pipeline tools:\n",
        "from sklearn.pipeline import Pipeline\n",
        "from sklearn.compose import ColumnTransformer\n",
        "from sklearn.model_selection import train_test_split\n",
        "# Variable transformers for cleaning:\n",
        "from sklearn.preprocessing import StandardScaler, OneHotEncoder\n",
        "from sklearn.impute import SimpleImputer\n",
        "# Analytics:\n",
        "from sklearn.tree import DecisionTreeRegressor, plot_tree\n",
        "from sklearn.linear_model import LinearRegression"
      ],
      "metadata": {
        "id": "cFLsIULQmeIb"
      },
      "execution_count": 2,
      "outputs": []
    },
    {
      "cell_type": "code",
      "source": [
        "# Observe all unfiltered data\n",
        "df = pd.read_csv(\"/content/DS-3001-Projects/Project 2/fhs_train.csv\")\n",
        "print(df.shape)\n",
        "print()"
      ],
      "metadata": {
        "id": "uvjpITZE5OSn",
        "outputId": "c266c161-03ab-4752-f43a-1f24950bc1fd",
        "colab": {
          "base_uri": "https://localhost:8080/"
        }
      },
      "execution_count": 6,
      "outputs": [
        {
          "output_type": "stream",
          "name": "stdout",
          "text": [
            "(3180, 17)\n",
            "\n"
          ]
        }
      ]
    },
    {
      "cell_type": "code",
      "source": [
        "# Remove all missing values/na's\n",
        "\n",
        "print(df.isna().sum())\n",
        "df = df.dropna()\n",
        "print(df.shape)\n",
        "print(df.dtypes)\n",
        "print(df.head())"
      ],
      "metadata": {
        "id": "kT8zh9Mb5UxS",
        "outputId": "225b5235-45ab-48b6-9c1e-45fa4511c463",
        "colab": {
          "base_uri": "https://localhost:8080/"
        }
      },
      "execution_count": 7,
      "outputs": [
        {
          "output_type": "stream",
          "name": "stdout",
          "text": [
            "Unnamed: 0           0\n",
            "sex                  0\n",
            "age                  0\n",
            "education           85\n",
            "currentSmoker        0\n",
            "cigsPerDay          24\n",
            "BPMeds              37\n",
            "prevalentStroke      0\n",
            "prevalentHyp         0\n",
            "diabetes             0\n",
            "totChol             39\n",
            "sysBP                0\n",
            "diaBP                0\n",
            "BMI                 15\n",
            "heartRate            0\n",
            "glucose            285\n",
            "TenYearCHD           0\n",
            "dtype: int64\n",
            "(2744, 17)\n",
            "Unnamed: 0           int64\n",
            "sex                  int64\n",
            "age                  int64\n",
            "education          float64\n",
            "currentSmoker        int64\n",
            "cigsPerDay         float64\n",
            "BPMeds             float64\n",
            "prevalentStroke      int64\n",
            "prevalentHyp         int64\n",
            "diabetes             int64\n",
            "totChol            float64\n",
            "sysBP              float64\n",
            "diaBP              float64\n",
            "BMI                float64\n",
            "heartRate            int64\n",
            "glucose            float64\n",
            "TenYearCHD           int64\n",
            "dtype: object\n",
            "   Unnamed: 0  sex  age  education  currentSmoker  cigsPerDay  BPMeds  \\\n",
            "0        1267    1   58        1.0              0         0.0     0.0   \n",
            "1        1209    0   40        1.0              1        15.0     0.0   \n",
            "3        1183    1   38        2.0              1        43.0     0.0   \n",
            "4        3225    0   43        1.0              0         0.0     0.0   \n",
            "6        1054    0   54        1.0              0         0.0     0.0   \n",
            "\n",
            "   prevalentStroke  prevalentHyp  diabetes  totChol  sysBP  diaBP    BMI  \\\n",
            "0                0             0         0    220.0  143.0  104.0  29.85   \n",
            "1                0             0         0    199.0  122.0   82.0  22.16   \n",
            "3                0             1         0    170.0  130.0   94.0  23.90   \n",
            "4                0             0         0    202.0  124.0   92.0  21.26   \n",
            "6                0             1         0    237.0  171.5  105.5  34.25   \n",
            "\n",
            "   heartRate  glucose  TenYearCHD  \n",
            "0         75     87.0           1  \n",
            "1         85     77.0           0  \n",
            "3        110     75.0           0  \n",
            "4         75     74.0           0  \n",
            "6         91    104.0           0  \n"
          ]
        }
      ]
    },
    {
      "cell_type": "code",
      "source": [
        "# Testing data dimensions before and after NA's are dropped\n",
        "df_test = pd.read_csv(\"/content/DS-3001-Projects/Project 2/fhs_test.csv\")\n",
        "print(df_test.shape)\n",
        "df_test = df_test.dropna()\n",
        "print(df_test.shape)"
      ],
      "metadata": {
        "id": "pXpIbvV2Apql"
      },
      "execution_count": null,
      "outputs": []
    },
    {
      "cell_type": "code",
      "source": [
        "# Outlier detection of numeric variables and winsorizing of outliers\n",
        "\n",
        "numeric_only = df.loc[:,['age','cigsPerDay', 'totChol','sysBP',\n",
        "           'diaBP', 'BMI', 'heartRate', 'glucose']]\n",
        "numeric_only.plot.box()\n",
        "plt.xticks(rotation=90)\n",
        "plt.show()\n",
        "def winsorize(x):\n",
        "    # Convert from pd to np, if necessary:\n",
        "    if type(x) == 'pandas.core.series.Series':\n",
        "        x = x.to_numpy()\n",
        "    # Compute IQR and 25, 75 quantiles:\n",
        "    pct25, pct75 = np.percentile(x,[25,75])\n",
        "    iqr = pct75 - pct25\n",
        "    # Compute whiskers:\n",
        "    lower_whisker = pct25 - iqr*1.5\n",
        "    upper_whisker = pct75 + iqr*1.5\n",
        "    # Windorize x:\n",
        "    x_winsor = np.copy(x)\n",
        "    x_winsor[ x < lower_whisker ] = lower_whisker\n",
        "    x_winsor[ x > upper_whisker ] = upper_whisker\n",
        "    return(x_winsor)\n",
        "\n",
        "df['cigsPerDay'] = winsorize(df['cigsPerDay'])\n",
        "df['totChol'] = winsorize(df['totChol'])\n",
        "df['sysBP'] = winsorize(df['sysBP'])\n",
        "df['diaBP'] = winsorize(df['diaBP'])\n",
        "df['BMI'] = winsorize(df['BMI'])\n",
        "df['heartRate'] = winsorize(df['heartRate'])\n",
        "df['glucose'] = winsorize(df['glucose'])\n",
        "\n",
        "# sns.boxplot( winsorize(numeric_only['glucose']))\n",
        "# plt.show()\n",
        "df.plot.box()\n",
        "plt.xticks(rotation=90)\n",
        "plt.show()"
      ],
      "metadata": {
        "id": "qz6Ituyva9yR"
      },
      "execution_count": null,
      "outputs": []
    },
    {
      "cell_type": "code",
      "source": [
        "# Response Variable plot\n",
        "sns.kdeplot(df,x=\"TenYearCHD\")\n",
        "print(df['TenYearCHD'].describe())\n",
        "df['TenYearCHD'].value_counts()"
      ],
      "metadata": {
        "id": "SjgXf73j3gW9"
      },
      "execution_count": null,
      "outputs": []
    },
    {
      "cell_type": "code",
      "source": [
        "# Main EDA visualizations (Density Plots)\n",
        "\n",
        "sns.kdeplot(data=df,x='age',hue='TenYearCHD')\n",
        "plt.show()\n",
        "sns.kdeplot(data=df,x='sex',hue='TenYearCHD')\n",
        "plt.show()\n",
        "sns.kdeplot(data=df,x='education',hue='TenYearCHD')\n",
        "plt.show()\n",
        "sns.kdeplot(data=df,x='currentSmoker',hue='TenYearCHD')\n",
        "plt.show()\n",
        "sns.kdeplot(data=df,x='cigsPerDay',hue='TenYearCHD')\n",
        "plt.show()\n",
        "sns.kdeplot(data=df,x='BPMeds',hue='TenYearCHD')\n",
        "plt.show()\n",
        "sns.kdeplot(data=df,x='prevalentStroke',hue='TenYearCHD')\n",
        "plt.show()\n",
        "sns.kdeplot(data=df,x='prevalentHyp',hue='TenYearCHD')\n",
        "plt.show()\n",
        "sns.kdeplot(data=df,x='diabetes',hue='TenYearCHD')\n",
        "plt.show()\n",
        "sns.kdeplot(data=df,x='totChol',hue='TenYearCHD')\n",
        "plt.show()\n",
        "sns.kdeplot(data=df,x='sysBP',hue='TenYearCHD')\n",
        "plt.show()\n",
        "sns.kdeplot(data=df,x='diaBP',hue='TenYearCHD')\n",
        "plt.show()\n",
        "sns.kdeplot(data=df,x='BMI',hue='TenYearCHD')\n",
        "plt.show()\n",
        "sns.kdeplot(data=df,x='heartRate',hue='TenYearCHD')\n",
        "plt.show()\n",
        "sns.kdeplot(data=df,x='glucose',hue='TenYearCHD')\n",
        "plt.show()\n"
      ],
      "metadata": {
        "id": "eetBEmYAt4iD"
      },
      "execution_count": null,
      "outputs": []
    },
    {
      "cell_type": "code",
      "source": [
        "# Move to index; used to look at different relationship between response and predictors\n",
        "\n",
        "sns.scatterplot(data=df,x=\"sex\",y=\"TenYearCHD\")\n",
        "plt.show()\n",
        "sns.regplot(data=df,x=\"age\",y=\"TenYearCHD\")\n",
        "plt.show()\n",
        "sns.scatterplot(data=df,x=\"education\",y=\"TenYearCHD\")\n",
        "plt.show()\n",
        "sns.scatterplot(data=df,x=\"currentSmoker\",y=\"TenYearCHD\")\n",
        "plt.show()\n",
        "sns.regplot(data=df,x=\"cigsPerDay\",y=\"TenYearCHD\")\n",
        "plt.show()\n",
        "sns.scatterplot(data=df,x=\"BPMeds\",y=\"TenYearCHD\")\n",
        "plt.show()\n",
        "sns.scatterplot(data=df,x=\"prevalentStroke\",y=\"TenYearCHD\")\n",
        "plt.show()\n",
        "sns.scatterplot(data=df,x=\"prevalentHyp\",y=\"TenYearCHD\")\n",
        "plt.show()\n",
        "sns.scatterplot(data=df,x=\"diabetes\",y=\"TenYearCHD\")\n",
        "plt.show()\n",
        "sns.regplot(data=df,x=\"totChol\",y=\"TenYearCHD\")\n",
        "plt.show()\n",
        "sns.regplot(data=df,x=\"sysBP\",y=\"TenYearCHD\")\n",
        "plt.show()\n",
        "sns.regplot(data=df,x=\"diaBP\",y=\"TenYearCHD\")\n",
        "plt.show()\n",
        "sns.regplot(data=df,x=\"BMI\",y=\"TenYearCHD\")\n",
        "plt.show()\n",
        "sns.regplot(data=df,x=\"heartRate\",y=\"TenYearCHD\")\n",
        "plt.show()\n",
        "sns.regplot(data=df,x=\"glucose\",y=\"TenYearCHD\")\n",
        "plt.show()"
      ],
      "metadata": {
        "id": "ZO7BawRXvSQJ"
      },
      "execution_count": null,
      "outputs": []
    },
    {
      "cell_type": "code",
      "source": [
        "# 1. Finalize data from Pandas:\n",
        "y = df['TenYearCHD']\n",
        "#Z = df.loc[:,['sex', 'age', 'education', 'currentSmoker', 'cigsPerDay',\n",
        "#       'BPMeds', 'prevalentStroke', 'prevalentHyp', 'diabetes', 'totChol',\n",
        "#       'sysBP', 'diaBP', 'BMI', 'heartRate', 'glucose'] ]\n",
        "\n",
        "Z = df.loc[:,['sex', 'age', 'education', 'currentSmoker', 'cigsPerDay',\n",
        "       'BPMeds', 'prevalentStroke', 'prevalentHyp', 'diabetes', 'totChol',\n",
        "       'sysBP', 'diaBP', 'BMI', 'heartRate', 'glucose']]\n",
        "\n",
        "# Z = df.loc[:,['age','cigsPerDay','totChol', 'sysBP', 'diaBP', 'BMI', 'heartRate', 'glucose']]\n",
        "\n",
        "# Z = df.loc[:,['sex', 'education', 'currentSmoker', 'BPMeds', 'prevalentStroke', 'prevalentHyp', 'diabetes']]\n",
        "\n",
        "\n",
        "\n",
        "X_test = df_test.loc[:,['sex', 'age', 'education', 'currentSmoker', 'cigsPerDay',\n",
        "       'BPMeds', 'prevalentStroke', 'prevalentHyp', 'diabetes', 'totChol',\n",
        "       'sysBP', 'diaBP', 'BMI', 'heartRate', 'glucose'] ]\n",
        "\n",
        "y_test= df_test[\"TenYearCHD\"]\n",
        "\n",
        "\n",
        "\n",
        "\n",
        "# 2. Set up variable preprocessing:\n",
        "cat_vars = ['sex','education','currentSmoker','BPMeds',\n",
        "           'prevalentStroke','prevalentHyp','diabetes'] # List of categorical variables\n",
        "num_vars = ['age','cigsPerDay', 'totChol','sysBP',\n",
        "           'diaBP', 'BMI', 'heartRate', 'glucose'] # List of numeric variables\n",
        "\n",
        "# num_vars = ['sex', 'age', 'education', 'currentSmoker', 'cigsPerDay',\n",
        "#        'BPMeds', 'prevalentStroke', 'prevalentHyp', 'diabetes', 'totChol',\n",
        "#        'sysBP', 'diaBP', 'BMI', 'heartRate', 'glucose']\n",
        "\n",
        "cat_pipeline = Pipeline(steps = [('ohc', OneHotEncoder(sparse_output=False))]) # One hot encoding\n",
        "num_pipeline = Pipeline(steps = [('maxmin', StandardScaler()) # Maxmin scaling\n",
        "                                 ])\n",
        "\n",
        "#('imputer', SimpleImputer(strategy='median'))# Imputation for missing values\n",
        "\n",
        "# 3. Column transformer:\n",
        "preprocessor = ColumnTransformer(\n",
        "    transformers = [('cat', cat_pipeline, cat_vars), # Transform cat_vars by cat_pipeline\n",
        "                    ('num', num_pipeline, num_vars)]) # Transform num_vars by num_pipeline\n",
        "\n",
        "# preprocessor = ColumnTransformer(\n",
        "#      transformers = [ # Transform cat_vars by cat_pipeline\n",
        "#                      ('num', num_pipeline, num_vars)])\n",
        "\n",
        "# preprocessor = ColumnTransformer(\n",
        "#      transformers = [ # Transform cat_vars by cat_pipeline\n",
        "#                      ('cat', cat_pipeline, cat_vars)])\n",
        "\n",
        "# 4. Create model-specific pipelines:\n",
        "lm_pipe = Pipeline(steps=[('preprocessor', preprocessor),\n",
        "                ('linreg', LinearRegression(fit_intercept=False))]) # Link preprocessor to model\n",
        "tree_pipe = Pipeline(steps=[('preprocessor', preprocessor),\n",
        "                ('tree', DecisionTreeRegressor(max_depth = 6))]) # Link preprocessor to model\n",
        "\n",
        "# 5. Train-test split:\n",
        "#X_train, X_test, y_train, y_test = train_test_split(Z, y, # Feature and target variables\n",
        "#                                                    test_size=.2) # For replication purposes\n",
        "\n",
        "# 6. Fit the models:\n",
        "lm = lm_pipe.fit(Z, y)\n",
        "tree = tree_pipe.fit(Z, y)\n",
        "\n",
        "print('Linear Model rsq: ', lm.score(Z, y) ) # R-squared\n",
        "print(lm.named_steps['linreg'].coef_) # Regression coefficients\n",
        "\n",
        "print('Tree rsq: ', tree.score(Z, y) )"
      ],
      "metadata": {
        "id": "4j9Jeeu-4mhA"
      },
      "execution_count": null,
      "outputs": []
    },
    {
      "cell_type": "code",
      "source": [
        "# Tried it with variables that showed a relationship between TenYearCHD\n",
        "\n",
        "Z = df.loc[:,['age','cigsPerDay']]\n",
        "y = df['TenYearCHD']\n",
        "X_test = df_test.loc[:,['age','cigsPerDay']]\n",
        "y_test = df_test['TenYearCHD']\n",
        "\n",
        "#cat_vars = ['education']\n",
        "num_vars = ['age','cigsPerDay']\n",
        "\n",
        "\n",
        "#cat_pipeline = Pipeline(steps = [('ohc', OneHotEncoder(sparse_output=False))]) # One hot encoding\n",
        "num_pipeline = Pipeline(steps = [('maxmin', StandardScaler()) # Maxmin scaling\n",
        "                                 ])\n",
        "preprocessor = ColumnTransformer(\n",
        "    transformers = [#('cat', cat_pipeline, cat_vars), # Transform cat_vars by cat_pipeline\n",
        "                    ('num', num_pipeline, num_vars)])\n",
        "\n",
        "lm_pipe = Pipeline(steps=[('preprocessor', preprocessor),\n",
        "                ('linreg', LinearRegression(fit_intercept=False))])\n",
        "lm = lm_pipe.fit(Z, y)\n",
        "print('Linear Model rsq: ', lm.score(X_test, y_test))\n"
      ],
      "metadata": {
        "colab": {
          "base_uri": "https://localhost:8080/"
        },
        "id": "tJZs-DfjVkpU",
        "outputId": "2e4f0b3d-20d7-4c6c-89b7-76e78d3ab695"
      },
      "execution_count": null,
      "outputs": [
        {
          "output_type": "stream",
          "name": "stdout",
          "text": [
            "Linear Model rsq:  -0.11011234183395291\n"
          ]
        }
      ]
    },
    {
      "cell_type": "code",
      "source": [
        "# Used OLS method and looked at significance of variables\n",
        "\n",
        "import statsmodels.api as sm\n",
        "\n",
        "# Create your model\n",
        "# X = df.loc[:,['sex', 'age', 'education', 'currentSmoker', 'cigsPerDay',\n",
        "#        'BPMeds', 'prevalentStroke', 'prevalentHyp', 'diabetes', 'totChol',\n",
        "#        'sysBP', 'diaBP', 'BMI', 'heartRate', 'glucose']]\n",
        "X = df.loc[:,['sex','age','cigsPerDay',\"totChol\",'sysBP']]\n",
        "y = df['TenYearCHD']\n",
        "X = sm.add_constant(X) # Add a constant term if needed\n",
        "model = sm.OLS(y, X).fit()\n",
        "\n",
        "# Get the summary\n",
        "print(model.summary())\n"
      ],
      "metadata": {
        "id": "cr05VaMvH98l"
      },
      "execution_count": null,
      "outputs": []
    },
    {
      "cell_type": "code",
      "source": [
        "# 7. Extract results:\n",
        "print('Linear Model rsq: ', lm.score(X_test, y_test) ) # R-squared\n",
        "print(lm.named_steps['linreg'].coef_) # Regression coefficients\n",
        "y_hat_lm = lm.predict(X_test) # Predicted values\n",
        "\n",
        "print('Tree rsq: ', tree.score(X_test, y_test) ) # R-squared\n",
        "y_hat_tree = tree.predict(X_test)\n",
        "\n",
        "sns.scatterplot(x=y_hat_lm, y=y_hat_tree)\n",
        "plt.show()"
      ],
      "metadata": {
        "id": "R1NLniW9-fBi",
        "outputId": "89facecf-0ae4-450e-adea-c465f1650ff9",
        "colab": {
          "base_uri": "https://localhost:8080/",
          "height": 569
        }
      },
      "execution_count": null,
      "outputs": [
        {
          "output_type": "stream",
          "name": "stdout",
          "text": [
            "Linear Model rsq:  0.08934273225588696\n",
            "[-1.15314636e+12 -1.15314636e+12 -2.32146069e+12 -2.32146069e+12\n",
            " -2.32146069e+12 -2.32146069e+12 -4.01316090e+12 -4.01316090e+12\n",
            "  3.90057663e+12  3.90057663e+12  2.74939417e+12  2.74939417e+12\n",
            " -2.01415574e+12 -2.01415574e+12  2.85195289e+12  2.85195289e+12\n",
            "  5.76911304e-02  3.11889648e-02  1.48773193e-02  5.47332764e-02\n",
            " -1.96609497e-02 -2.13623047e-03  8.23974609e-04  2.56690979e-02]\n",
            "Tree rsq:  -0.018096322371274898\n"
          ]
        },
        {
          "output_type": "display_data",
          "data": {
            "text/plain": [
              "<Figure size 640x480 with 1 Axes>"
            ],
            "image/png": "[encoded data removed]"
          },
          "metadata": {}
        }
      ]
    },
    {
      "cell_type": "code",
      "source": [
        "# 1. Finalize data from Pandas:\n",
        "df\n",
        "\n",
        "# y = df['TenYearCHD']\n",
        "\n",
        "# Z = df.loc[:,['sex', 'age', 'education', 'currentSmoker', 'cigsPerDay',\n",
        "#        'BPMeds', 'prevalentStroke', 'prevalentHyp', 'diabetes', 'totChol',\n",
        "#        'sysBP', 'diaBP', 'BMI', 'heartRate', 'glucose']]\n",
        "\n",
        "# x = df.loc[:,['age','cigsPerDay','totChol', 'sysBP', 'diaBP', 'BMI', 'heartRate', 'glucose']]\n",
        "\n",
        "\n",
        "df_logit = pd.get_dummies(df, columns=['sex','education','currentSmoker','BPMeds','prevalentStroke','prevalentHyp','diabetes'], drop_first=True)\n",
        "\n",
        "# #view updated DataFrame\n",
        "\n",
        "df_logit= df_logit.astype(int)\n",
        "\n",
        "df_logit\n",
        "df_logit.columns.unique()\n",
        "\n",
        "y = df_logit['TenYearCHD']\n",
        "x = df_logit[['age', 'cigsPerDay', 'totChol', 'sysBP', 'diaBP', 'BMI', 'heartRate',\n",
        "       'glucose', 'sex_1', 'education_2.0', 'education_3.0', 'education_4.0',\n",
        "       'currentSmoker_1', 'BPMeds_1.0', 'prevalentStroke_1', 'prevalentHyp_1',\n",
        "       'diabetes_1']]\n",
        "\n",
        "\n",
        "x = sm.add_constant(x)\n",
        "\n",
        "#fit regression model\n",
        "model = sm.OLS(y, x).fit()\n",
        "\n",
        "#view summary of model fit\n",
        "print(model.summary())\n",
        "\n",
        "logit_model = sm.Logit(y, x)\n",
        "result = logit_model.fit()\n",
        "print(result.summary())"
      ],
      "metadata": {
        "id": "kzN5Now8TLz8"
      },
      "execution_count": null,
      "outputs": []
    }
  ]
}
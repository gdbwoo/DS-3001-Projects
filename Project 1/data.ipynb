{
  "nbformat": 4,
  "nbformat_minor": 0,
  "metadata": {
    "colab": {
      "provenance": []
    },
    "kernelspec": {
      "name": "python3",
      "display_name": "Python 3"
    },
    "language_info": {
      "name": "python"
    }
  },
  "cells": [
    {
      "cell_type": "markdown",
      "source": [
        "# **Summary**\n",
        "\n",
        "For Project 1, our group worked with data from the General Social Survey conducted repeatedly since 1972, provided by NORC at the University of Chicago. There were an abundance of variables we found interesting, but we particularly wanted to explore if and how mental health and different types of employment conditions are correlated. Our methods of investigating this question consisted of choosing the dataset, gss_chunk_3.parquet, observing and cleaning the data for consistency, proceeding with data wrangling to prepare the data for analysis, visualizing the data with a variety of graphs, and finally analyzing the data with our results.\n",
        "\n",
        "There is still more to test and verify beyond our project, and our results showed that there were weak correlations or other factors in play between our variables. Just by looking at our visuals, regarding the wrkslf variable (whether the respondent was self employed or working for someone else), our results showed that taking mental health days off was more common among workers who were employed by someone else than those who were self employed. However, there seemed to be almost no correlation between hours worked and mental health days taken off in a month when grouped by wrkslf. Regarding income group distributions, our results showed that taking mental health days off was more common among workers who were in the lower income group, than those in the higher income group. However, there was a weak correlation between hours worked and mental health days taken off in a month when grouped by income groups."
      ],
      "metadata": {
        "id": "Ux9oxzCGy0wa"
      }
    },
    {
      "cell_type": "markdown",
      "source": [
        "# **Data**\n",
        "\n",
        "For our dataset, we chose to use the provided file, gss_chunk_3.parquet. As we approached this dataset, we wanted to focus on the latest data available, so we decided to only use data from 2018, 2021, and 2022. There was no available data for the years 2019 and 2020, which is why there is a gap between 2018 and 2021.\n",
        "\n",
        "Because we were exploring the correlation between mental health and employment conditions, we used the following variables:\n",
        "- mntlhlth (numerical): days of poor mental health past 30 days, for how many days during the past 30 days was your mental health not good? (defined by stress, depression, problems with emotions)\n",
        "- hrs2 (numerical): number of hours usually work in a week\n",
        "- income16 (categorical): total family income\n",
        "- wrkslf (categorical): self employed or working for someone else\n",
        "\n",
        "As we began to read, clean and prepare the data for analysis, we came across a few challenges. The first challenge we came across was dealing with a large amount of NA values. Because our dataset was from a social survey, respondents often left many questions unanswered or did not leave meaningful answers. Our group considered imputing the values with the median, however, because there were a significant amount of values missing and this would greatly influence our results, we decided to remove all NA values. The second challenge we came across was as a result of removing all NA values which significantly reduced the amount of data we could work with. This influenced our decision to use multiple years of our data instead of just the latest year, 2022, which allowed for us to utilize more of the dataset while still preserving our purpose.\n",
        "\n",
        "The following cells include our data cleaning and visualization process.\n"
      ],
      "metadata": {
        "id": "qJPRoqqKzB_a"
      }
    },
    {
      "cell_type": "code",
      "source": [
        "! git clone \"https://github.com/gdbwoo/DS-3001-Projects\""
      ],
      "metadata": {
        "id": "MXTXj2Cg4yEB",
        "outputId": "b57344d7-9fa1-47f0-e9f4-ff2600bbfa60",
        "colab": {
          "base_uri": "https://localhost:8080/"
        }
      },
      "execution_count": null,
      "outputs": [
        {
          "output_type": "stream",
          "name": "stdout",
          "text": [
            "Cloning into 'DS-3001-Projects'...\n",
            "remote: Enumerating objects: 24, done.\u001b[K\n",
            "remote: Counting objects: 100% (24/24), done.\u001b[K\n",
            "remote: Compressing objects: 100% (15/15), done.\u001b[K\n",
            "remote: Total 24 (delta 3), reused 0 (delta 0), pack-reused 0\u001b[K\n",
            "Receiving objects: 100% (24/24), 7.89 MiB | 5.33 MiB/s, done.\n",
            "Resolving deltas: 100% (3/3), done.\n"
          ]
        }
      ]
    },
    {
      "cell_type": "code",
      "execution_count": null,
      "metadata": {
        "id": "Pn_uKxFp2ZVY"
      },
      "outputs": [],
      "source": [
        "# Import all packages\n",
        "import pandas as pd\n",
        "import numpy as np\n",
        "import seaborn as sns\n",
        "import matplotlib.pyplot as plt"
      ]
    },
    {
      "cell_type": "code",
      "source": [
        "# Observe all unfiltered data\n",
        "df_all = pd.read_parquet('DS-3001-Projects/Project 1/gss_chunk_3.parquet')\n",
        "print(df_all.shape, '\\n')\n",
        "df_all.head()"
      ],
      "metadata": {
        "colab": {
          "base_uri": "https://localhost:8080/",
          "height": 270
        },
        "id": "WWW-vakO3p8c",
        "outputId": "d63d3983-2ef9-4bc6-a02d-357a12749d93"
      },
      "execution_count": null,
      "outputs": [
        {
          "output_type": "stream",
          "name": "stdout",
          "text": [
            "(24130, 6694) \n",
            "\n"
          ]
        },
        {
          "output_type": "execute_result",
          "data": {
            "text/plain": [
              "   year    id            wrkstat  hrs1  hrs2 evwork  occ  prestige  \\\n",
              "0  2006  1751  working full time  40.0   NaN    NaN  NaN       NaN   \n",
              "1  2006  1752          in school   NaN   NaN    yes  NaN       NaN   \n",
              "2  2006  1753  working full time  35.0   NaN    NaN  NaN       NaN   \n",
              "3  2006  1754  working full time  50.0   NaN    NaN  NaN       NaN   \n",
              "4  2006  1755  working full time  40.0   NaN    NaN  NaN       NaN   \n",
              "\n",
              "         wrkslf     wrkgovt  ...  agehef12 agehef13 agehef14  hompoph  \\\n",
              "0  someone else  government  ...       NaN      NaN      NaN      NaN   \n",
              "1  someone else     private  ...       NaN      NaN      NaN      NaN   \n",
              "2  someone else  government  ...       NaN      NaN      NaN      NaN   \n",
              "3  someone else  government  ...       NaN      NaN      NaN      NaN   \n",
              "4  someone else     private  ...       NaN      NaN      NaN      NaN   \n",
              "\n",
              "  wtssps_nea  wtssnrps_nea  wtssps_next wtssnrps_next  wtsscomp wtsscompnr  \n",
              "0        NaN           NaN          NaN           NaN  1.079141   0.961150  \n",
              "1        NaN           NaN          NaN           NaN  7.673834   6.641571  \n",
              "2        NaN           NaN          NaN           NaN  0.584663   0.512145  \n",
              "3        NaN           NaN          NaN           NaN  0.715731   0.637592  \n",
              "4        NaN           NaN          NaN           NaN  1.094831   0.956094  \n",
              "\n",
              "[5 rows x 6694 columns]"
            ],
            "text/html": [
              "\n",
              "  <div id=\"df-e3946587-5fbd-4172-b095-4eaf8314d4ad\" class=\"colab-df-container\">\n",
              "    <div>\n",
              "<style scoped>\n",
              "    .dataframe tbody tr th:only-of-type {\n",
              "        vertical-align: middle;\n",
              "    }\n",
              "\n",
              "    .dataframe tbody tr th {\n",
              "        vertical-align: top;\n",
              "    }\n",
              "\n",
              "    .dataframe thead th {\n",
              "        text-align: right;\n",
              "    }\n",
              "</style>\n",
              "<table border=\"1\" class=\"dataframe\">\n",
              "  <thead>\n",
              "    <tr style=\"text-align: right;\">\n",
              "      <th></th>\n",
              "      <th>year</th>\n",
              "      <th>id</th>\n",
              "      <th>wrkstat</th>\n",
              "      <th>hrs1</th>\n",
              "      <th>hrs2</th>\n",
              "      <th>evwork</th>\n",
              "      <th>occ</th>\n",
              "      <th>prestige</th>\n",
              "      <th>wrkslf</th>\n",
              "      <th>wrkgovt</th>\n",
              "      <th>...</th>\n",
              "      <th>agehef12</th>\n",
              "      <th>agehef13</th>\n",
              "      <th>agehef14</th>\n",
              "      <th>hompoph</th>\n",
              "      <th>wtssps_nea</th>\n",
              "      <th>wtssnrps_nea</th>\n",
              "      <th>wtssps_next</th>\n",
              "      <th>wtssnrps_next</th>\n",
              "      <th>wtsscomp</th>\n",
              "      <th>wtsscompnr</th>\n",
              "    </tr>\n",
              "  </thead>\n",
              "  <tbody>\n",
              "    <tr>\n",
              "      <th>0</th>\n",
              "      <td>2006</td>\n",
              "      <td>1751</td>\n",
              "      <td>working full time</td>\n",
              "      <td>40.0</td>\n",
              "      <td>NaN</td>\n",
              "      <td>NaN</td>\n",
              "      <td>NaN</td>\n",
              "      <td>NaN</td>\n",
              "      <td>someone else</td>\n",
              "      <td>government</td>\n",
              "      <td>...</td>\n",
              "      <td>NaN</td>\n",
              "      <td>NaN</td>\n",
              "      <td>NaN</td>\n",
              "      <td>NaN</td>\n",
              "      <td>NaN</td>\n",
              "      <td>NaN</td>\n",
              "      <td>NaN</td>\n",
              "      <td>NaN</td>\n",
              "      <td>1.079141</td>\n",
              "      <td>0.961150</td>\n",
              "    </tr>\n",
              "    <tr>\n",
              "      <th>1</th>\n",
              "      <td>2006</td>\n",
              "      <td>1752</td>\n",
              "      <td>in school</td>\n",
              "      <td>NaN</td>\n",
              "      <td>NaN</td>\n",
              "      <td>yes</td>\n",
              "      <td>NaN</td>\n",
              "      <td>NaN</td>\n",
              "      <td>someone else</td>\n",
              "      <td>private</td>\n",
              "      <td>...</td>\n",
              "      <td>NaN</td>\n",
              "      <td>NaN</td>\n",
              "      <td>NaN</td>\n",
              "      <td>NaN</td>\n",
              "      <td>NaN</td>\n",
              "      <td>NaN</td>\n",
              "      <td>NaN</td>\n",
              "      <td>NaN</td>\n",
              "      <td>7.673834</td>\n",
              "      <td>6.641571</td>\n",
              "    </tr>\n",
              "    <tr>\n",
              "      <th>2</th>\n",
              "      <td>2006</td>\n",
              "      <td>1753</td>\n",
              "      <td>working full time</td>\n",
              "      <td>35.0</td>\n",
              "      <td>NaN</td>\n",
              "      <td>NaN</td>\n",
              "      <td>NaN</td>\n",
              "      <td>NaN</td>\n",
              "      <td>someone else</td>\n",
              "      <td>government</td>\n",
              "      <td>...</td>\n",
              "      <td>NaN</td>\n",
              "      <td>NaN</td>\n",
              "      <td>NaN</td>\n",
              "      <td>NaN</td>\n",
              "      <td>NaN</td>\n",
              "      <td>NaN</td>\n",
              "      <td>NaN</td>\n",
              "      <td>NaN</td>\n",
              "      <td>0.584663</td>\n",
              "      <td>0.512145</td>\n",
              "    </tr>\n",
              "    <tr>\n",
              "      <th>3</th>\n",
              "      <td>2006</td>\n",
              "      <td>1754</td>\n",
              "      <td>working full time</td>\n",
              "      <td>50.0</td>\n",
              "      <td>NaN</td>\n",
              "      <td>NaN</td>\n",
              "      <td>NaN</td>\n",
              "      <td>NaN</td>\n",
              "      <td>someone else</td>\n",
              "      <td>government</td>\n",
              "      <td>...</td>\n",
              "      <td>NaN</td>\n",
              "      <td>NaN</td>\n",
              "      <td>NaN</td>\n",
              "      <td>NaN</td>\n",
              "      <td>NaN</td>\n",
              "      <td>NaN</td>\n",
              "      <td>NaN</td>\n",
              "      <td>NaN</td>\n",
              "      <td>0.715731</td>\n",
              "      <td>0.637592</td>\n",
              "    </tr>\n",
              "    <tr>\n",
              "      <th>4</th>\n",
              "      <td>2006</td>\n",
              "      <td>1755</td>\n",
              "      <td>working full time</td>\n",
              "      <td>40.0</td>\n",
              "      <td>NaN</td>\n",
              "      <td>NaN</td>\n",
              "      <td>NaN</td>\n",
              "      <td>NaN</td>\n",
              "      <td>someone else</td>\n",
              "      <td>private</td>\n",
              "      <td>...</td>\n",
              "      <td>NaN</td>\n",
              "      <td>NaN</td>\n",
              "      <td>NaN</td>\n",
              "      <td>NaN</td>\n",
              "      <td>NaN</td>\n",
              "      <td>NaN</td>\n",
              "      <td>NaN</td>\n",
              "      <td>NaN</td>\n",
              "      <td>1.094831</td>\n",
              "      <td>0.956094</td>\n",
              "    </tr>\n",
              "  </tbody>\n",
              "</table>\n",
              "<p>5 rows × 6694 columns</p>\n",
              "</div>\n",
              "    <div class=\"colab-df-buttons\">\n",
              "\n",
              "  <div class=\"colab-df-container\">\n",
              "    <button class=\"colab-df-convert\" onclick=\"convertToInteractive('df-e3946587-5fbd-4172-b095-4eaf8314d4ad')\"\n",
              "            title=\"Convert this dataframe to an interactive table.\"\n",
              "            style=\"display:none;\">\n",
              "\n",
              "  <svg xmlns=\"http://www.w3.org/2000/svg\" height=\"24px\" viewBox=\"0 -960 960 960\">\n",
              "    <path d=\"M120-120v-720h720v720H120Zm60-500h600v-160H180v160Zm220 220h160v-160H400v160Zm0 220h160v-160H400v160ZM180-400h160v-160H180v160Zm440 0h160v-160H620v160ZM180-180h160v-160H180v160Zm440 0h160v-160H620v160Z\"/>\n",
              "  </svg>\n",
              "    </button>\n",
              "\n",
              "  <style>\n",
              "    .colab-df-container {\n",
              "      display:flex;\n",
              "      gap: 12px;\n",
              "    }\n",
              "\n",
              "    .colab-df-convert {\n",
              "      background-color: #E8F0FE;\n",
              "      border: none;\n",
              "      border-radius: 50%;\n",
              "      cursor: pointer;\n",
              "      display: none;\n",
              "      fill: #1967D2;\n",
              "      height: 32px;\n",
              "      padding: 0 0 0 0;\n",
              "      width: 32px;\n",
              "    }\n",
              "\n",
              "    .colab-df-convert:hover {\n",
              "      background-color: #E2EBFA;\n",
              "      box-shadow: 0px 1px 2px rgba(60, 64, 67, 0.3), 0px 1px 3px 1px rgba(60, 64, 67, 0.15);\n",
              "      fill: #174EA6;\n",
              "    }\n",
              "\n",
              "    .colab-df-buttons div {\n",
              "      margin-bottom: 4px;\n",
              "    }\n",
              "\n",
              "    [theme=dark] .colab-df-convert {\n",
              "      background-color: #3B4455;\n",
              "      fill: #D2E3FC;\n",
              "    }\n",
              "\n",
              "    [theme=dark] .colab-df-convert:hover {\n",
              "      background-color: #434B5C;\n",
              "      box-shadow: 0px 1px 3px 1px rgba(0, 0, 0, 0.15);\n",
              "      filter: drop-shadow(0px 1px 2px rgba(0, 0, 0, 0.3));\n",
              "      fill: #FFFFFF;\n",
              "    }\n",
              "  </style>\n",
              "\n",
              "    <script>\n",
              "      const buttonEl =\n",
              "        document.querySelector('#df-e3946587-5fbd-4172-b095-4eaf8314d4ad button.colab-df-convert');\n",
              "      buttonEl.style.display =\n",
              "        google.colab.kernel.accessAllowed ? 'block' : 'none';\n",
              "\n",
              "      async function convertToInteractive(key) {\n",
              "        const element = document.querySelector('#df-e3946587-5fbd-4172-b095-4eaf8314d4ad');\n",
              "        const dataTable =\n",
              "          await google.colab.kernel.invokeFunction('convertToInteractive',\n",
              "                                                    [key], {});\n",
              "        if (!dataTable) return;\n",
              "\n",
              "        const docLinkHtml = 'Like what you see? Visit the ' +\n",
              "          '<a target=\"_blank\" href=https://colab.research.google.com/notebooks/data_table.ipynb>data table notebook</a>'\n",
              "          + ' to learn more about interactive tables.';\n",
              "        element.innerHTML = '';\n",
              "        dataTable['output_type'] = 'display_data';\n",
              "        await google.colab.output.renderOutput(dataTable, element);\n",
              "        const docLink = document.createElement('div');\n",
              "        docLink.innerHTML = docLinkHtml;\n",
              "        element.appendChild(docLink);\n",
              "      }\n",
              "    </script>\n",
              "  </div>\n",
              "\n",
              "\n",
              "<div id=\"df-4746b1c5-aa3a-4bd3-9520-60f65e7578ea\">\n",
              "  <button class=\"colab-df-quickchart\" onclick=\"quickchart('df-4746b1c5-aa3a-4bd3-9520-60f65e7578ea')\"\n",
              "            title=\"Suggest charts\"\n",
              "            style=\"display:none;\">\n",
              "\n",
              "<svg xmlns=\"http://www.w3.org/2000/svg\" height=\"24px\"viewBox=\"0 0 24 24\"\n",
              "     width=\"24px\">\n",
              "    <g>\n",
              "        <path d=\"M19 3H5c-1.1 0-2 .9-2 2v14c0 1.1.9 2 2 2h14c1.1 0 2-.9 2-2V5c0-1.1-.9-2-2-2zM9 17H7v-7h2v7zm4 0h-2V7h2v10zm4 0h-2v-4h2v4z\"/>\n",
              "    </g>\n",
              "</svg>\n",
              "  </button>\n",
              "\n",
              "<style>\n",
              "  .colab-df-quickchart {\n",
              "      --bg-color: #E8F0FE;\n",
              "      --fill-color: #1967D2;\n",
              "      --hover-bg-color: #E2EBFA;\n",
              "      --hover-fill-color: #174EA6;\n",
              "      --disabled-fill-color: #AAA;\n",
              "      --disabled-bg-color: #DDD;\n",
              "  }\n",
              "\n",
              "  [theme=dark] .colab-df-quickchart {\n",
              "      --bg-color: #3B4455;\n",
              "      --fill-color: #D2E3FC;\n",
              "      --hover-bg-color: #434B5C;\n",
              "      --hover-fill-color: #FFFFFF;\n",
              "      --disabled-bg-color: #3B4455;\n",
              "      --disabled-fill-color: #666;\n",
              "  }\n",
              "\n",
              "  .colab-df-quickchart {\n",
              "    background-color: var(--bg-color);\n",
              "    border: none;\n",
              "    border-radius: 50%;\n",
              "    cursor: pointer;\n",
              "    display: none;\n",
              "    fill: var(--fill-color);\n",
              "    height: 32px;\n",
              "    padding: 0;\n",
              "    width: 32px;\n",
              "  }\n",
              "\n",
              "  .colab-df-quickchart:hover {\n",
              "    background-color: var(--hover-bg-color);\n",
              "    box-shadow: 0 1px 2px rgba(60, 64, 67, 0.3), 0 1px 3px 1px rgba(60, 64, 67, 0.15);\n",
              "    fill: var(--button-hover-fill-color);\n",
              "  }\n",
              "\n",
              "  .colab-df-quickchart-complete:disabled,\n",
              "  .colab-df-quickchart-complete:disabled:hover {\n",
              "    background-color: var(--disabled-bg-color);\n",
              "    fill: var(--disabled-fill-color);\n",
              "    box-shadow: none;\n",
              "  }\n",
              "\n",
              "  .colab-df-spinner {\n",
              "    border: 2px solid var(--fill-color);\n",
              "    border-color: transparent;\n",
              "    border-bottom-color: var(--fill-color);\n",
              "    animation:\n",
              "      spin 1s steps(1) infinite;\n",
              "  }\n",
              "\n",
              "  @keyframes spin {\n",
              "    0% {\n",
              "      border-color: transparent;\n",
              "      border-bottom-color: var(--fill-color);\n",
              "      border-left-color: var(--fill-color);\n",
              "    }\n",
              "    20% {\n",
              "      border-color: transparent;\n",
              "      border-left-color: var(--fill-color);\n",
              "      border-top-color: var(--fill-color);\n",
              "    }\n",
              "    30% {\n",
              "      border-color: transparent;\n",
              "      border-left-color: var(--fill-color);\n",
              "      border-top-color: var(--fill-color);\n",
              "      border-right-color: var(--fill-color);\n",
              "    }\n",
              "    40% {\n",
              "      border-color: transparent;\n",
              "      border-right-color: var(--fill-color);\n",
              "      border-top-color: var(--fill-color);\n",
              "    }\n",
              "    60% {\n",
              "      border-color: transparent;\n",
              "      border-right-color: var(--fill-color);\n",
              "    }\n",
              "    80% {\n",
              "      border-color: transparent;\n",
              "      border-right-color: var(--fill-color);\n",
              "      border-bottom-color: var(--fill-color);\n",
              "    }\n",
              "    90% {\n",
              "      border-color: transparent;\n",
              "      border-bottom-color: var(--fill-color);\n",
              "    }\n",
              "  }\n",
              "</style>\n",
              "\n",
              "  <script>\n",
              "    async function quickchart(key) {\n",
              "      const quickchartButtonEl =\n",
              "        document.querySelector('#' + key + ' button');\n",
              "      quickchartButtonEl.disabled = true;  // To prevent multiple clicks.\n",
              "      quickchartButtonEl.classList.add('colab-df-spinner');\n",
              "      try {\n",
              "        const charts = await google.colab.kernel.invokeFunction(\n",
              "            'suggestCharts', [key], {});\n",
              "      } catch (error) {\n",
              "        console.error('Error during call to suggestCharts:', error);\n",
              "      }\n",
              "      quickchartButtonEl.classList.remove('colab-df-spinner');\n",
              "      quickchartButtonEl.classList.add('colab-df-quickchart-complete');\n",
              "    }\n",
              "    (() => {\n",
              "      let quickchartButtonEl =\n",
              "        document.querySelector('#df-4746b1c5-aa3a-4bd3-9520-60f65e7578ea button');\n",
              "      quickchartButtonEl.style.display =\n",
              "        google.colab.kernel.accessAllowed ? 'block' : 'none';\n",
              "    })();\n",
              "  </script>\n",
              "</div>\n",
              "    </div>\n",
              "  </div>\n"
            ],
            "application/vnd.google.colaboratory.intrinsic+json": {
              "type": "dataframe",
              "variable_name": "df_all"
            }
          },
          "metadata": {},
          "execution_count": 3
        }
      ]
    },
    {
      "cell_type": "code",
      "source": [
        "year = df_all['year']\n",
        "print(year.unique(), '\\n')"
      ],
      "metadata": {
        "colab": {
          "base_uri": "https://localhost:8080/"
        },
        "id": "Z4hxZ-5mHXvI",
        "outputId": "ac4da304-e20f-41c2-d4e5-5e1fa4c48975"
      },
      "execution_count": null,
      "outputs": [
        {
          "output_type": "stream",
          "name": "stdout",
          "text": [
            "[2006 2008 2010 2012 2014 2016 2018 2021 2022] \n",
            "\n"
          ]
        }
      ]
    },
    {
      "cell_type": "code",
      "source": [
        "# Make new dataframe with years 2022, 2021, 2018\n",
        "\n",
        "#df = df_all.loc[(df_all['year'] == 2022)]\n",
        "df = df_all.loc[(df_all['year'] == 2022) | (df_all['year'] == 2021) | (df_all['year'] == 2018)]\n",
        "print(df.shape, '\\n')\n",
        "df.head()"
      ],
      "metadata": {
        "colab": {
          "base_uri": "https://localhost:8080/",
          "height": 357
        },
        "id": "TLKo95PoktCR",
        "outputId": "4b1dbc84-b134-4811-a97f-c1f9d403116f"
      },
      "execution_count": null,
      "outputs": [
        {
          "output_type": "stream",
          "name": "stdout",
          "text": [
            "(9924, 6694) \n",
            "\n"
          ]
        },
        {
          "output_type": "execute_result",
          "data": {
            "text/plain": [
              "       year  id                                            wrkstat  hrs1  \\\n",
              "14206  2018   1  with a job, but not at work because of tempora...   NaN   \n",
              "14207  2018   2                                            retired   NaN   \n",
              "14208  2018   3                                  working full time  40.0   \n",
              "14209  2018   4                                  working full time  40.0   \n",
              "14210  2018   5                                            retired   NaN   \n",
              "\n",
              "       hrs2 evwork  occ  prestige        wrkslf  wrkgovt  ...  agehef12  \\\n",
              "14206  41.0    NaN  NaN       NaN  someone else  private  ...       NaN   \n",
              "14207   NaN    yes  NaN       NaN  someone else  private  ...       NaN   \n",
              "14208   NaN    NaN  NaN       NaN  someone else  private  ...       NaN   \n",
              "14209   NaN    NaN  NaN       NaN  someone else  private  ...       NaN   \n",
              "14210   NaN    yes  NaN       NaN  someone else  private  ...       NaN   \n",
              "\n",
              "      agehef13 agehef14  hompoph wtssps_nea  wtssnrps_nea  wtssps_next  \\\n",
              "14206      NaN      NaN      NaN        NaN           NaN          NaN   \n",
              "14207      NaN      NaN      NaN        NaN           NaN          NaN   \n",
              "14208      NaN      NaN      NaN        NaN           NaN          NaN   \n",
              "14209      NaN      NaN      NaN        NaN           NaN          NaN   \n",
              "14210      NaN      NaN      NaN        NaN           NaN          NaN   \n",
              "\n",
              "      wtssnrps_next  wtsscomp wtsscompnr  \n",
              "14206           NaN  1.908104   2.244275  \n",
              "14207           NaN  0.914550   1.095217  \n",
              "14208           NaN  0.609109   0.740432  \n",
              "14209           NaN  0.642403   0.769342  \n",
              "14210           NaN  0.396347   0.462239  \n",
              "\n",
              "[5 rows x 6694 columns]"
            ],
            "text/html": [
              "\n",
              "  <div id=\"df-011d8d6f-7524-4d49-bd91-feb98f319a00\" class=\"colab-df-container\">\n",
              "    <div>\n",
              "<style scoped>\n",
              "    .dataframe tbody tr th:only-of-type {\n",
              "        vertical-align: middle;\n",
              "    }\n",
              "\n",
              "    .dataframe tbody tr th {\n",
              "        vertical-align: top;\n",
              "    }\n",
              "\n",
              "    .dataframe thead th {\n",
              "        text-align: right;\n",
              "    }\n",
              "</style>\n",
              "<table border=\"1\" class=\"dataframe\">\n",
              "  <thead>\n",
              "    <tr style=\"text-align: right;\">\n",
              "      <th></th>\n",
              "      <th>year</th>\n",
              "      <th>id</th>\n",
              "      <th>wrkstat</th>\n",
              "      <th>hrs1</th>\n",
              "      <th>hrs2</th>\n",
              "      <th>evwork</th>\n",
              "      <th>occ</th>\n",
              "      <th>prestige</th>\n",
              "      <th>wrkslf</th>\n",
              "      <th>wrkgovt</th>\n",
              "      <th>...</th>\n",
              "      <th>agehef12</th>\n",
              "      <th>agehef13</th>\n",
              "      <th>agehef14</th>\n",
              "      <th>hompoph</th>\n",
              "      <th>wtssps_nea</th>\n",
              "      <th>wtssnrps_nea</th>\n",
              "      <th>wtssps_next</th>\n",
              "      <th>wtssnrps_next</th>\n",
              "      <th>wtsscomp</th>\n",
              "      <th>wtsscompnr</th>\n",
              "    </tr>\n",
              "  </thead>\n",
              "  <tbody>\n",
              "    <tr>\n",
              "      <th>14206</th>\n",
              "      <td>2018</td>\n",
              "      <td>1</td>\n",
              "      <td>with a job, but not at work because of tempora...</td>\n",
              "      <td>NaN</td>\n",
              "      <td>41.0</td>\n",
              "      <td>NaN</td>\n",
              "      <td>NaN</td>\n",
              "      <td>NaN</td>\n",
              "      <td>someone else</td>\n",
              "      <td>private</td>\n",
              "      <td>...</td>\n",
              "      <td>NaN</td>\n",
              "      <td>NaN</td>\n",
              "      <td>NaN</td>\n",
              "      <td>NaN</td>\n",
              "      <td>NaN</td>\n",
              "      <td>NaN</td>\n",
              "      <td>NaN</td>\n",
              "      <td>NaN</td>\n",
              "      <td>1.908104</td>\n",
              "      <td>2.244275</td>\n",
              "    </tr>\n",
              "    <tr>\n",
              "      <th>14207</th>\n",
              "      <td>2018</td>\n",
              "      <td>2</td>\n",
              "      <td>retired</td>\n",
              "      <td>NaN</td>\n",
              "      <td>NaN</td>\n",
              "      <td>yes</td>\n",
              "      <td>NaN</td>\n",
              "      <td>NaN</td>\n",
              "      <td>someone else</td>\n",
              "      <td>private</td>\n",
              "      <td>...</td>\n",
              "      <td>NaN</td>\n",
              "      <td>NaN</td>\n",
              "      <td>NaN</td>\n",
              "      <td>NaN</td>\n",
              "      <td>NaN</td>\n",
              "      <td>NaN</td>\n",
              "      <td>NaN</td>\n",
              "      <td>NaN</td>\n",
              "      <td>0.914550</td>\n",
              "      <td>1.095217</td>\n",
              "    </tr>\n",
              "    <tr>\n",
              "      <th>14208</th>\n",
              "      <td>2018</td>\n",
              "      <td>3</td>\n",
              "      <td>working full time</td>\n",
              "      <td>40.0</td>\n",
              "      <td>NaN</td>\n",
              "      <td>NaN</td>\n",
              "      <td>NaN</td>\n",
              "      <td>NaN</td>\n",
              "      <td>someone else</td>\n",
              "      <td>private</td>\n",
              "      <td>...</td>\n",
              "      <td>NaN</td>\n",
              "      <td>NaN</td>\n",
              "      <td>NaN</td>\n",
              "      <td>NaN</td>\n",
              "      <td>NaN</td>\n",
              "      <td>NaN</td>\n",
              "      <td>NaN</td>\n",
              "      <td>NaN</td>\n",
              "      <td>0.609109</td>\n",
              "      <td>0.740432</td>\n",
              "    </tr>\n",
              "    <tr>\n",
              "      <th>14209</th>\n",
              "      <td>2018</td>\n",
              "      <td>4</td>\n",
              "      <td>working full time</td>\n",
              "      <td>40.0</td>\n",
              "      <td>NaN</td>\n",
              "      <td>NaN</td>\n",
              "      <td>NaN</td>\n",
              "      <td>NaN</td>\n",
              "      <td>someone else</td>\n",
              "      <td>private</td>\n",
              "      <td>...</td>\n",
              "      <td>NaN</td>\n",
              "      <td>NaN</td>\n",
              "      <td>NaN</td>\n",
              "      <td>NaN</td>\n",
              "      <td>NaN</td>\n",
              "      <td>NaN</td>\n",
              "      <td>NaN</td>\n",
              "      <td>NaN</td>\n",
              "      <td>0.642403</td>\n",
              "      <td>0.769342</td>\n",
              "    </tr>\n",
              "    <tr>\n",
              "      <th>14210</th>\n",
              "      <td>2018</td>\n",
              "      <td>5</td>\n",
              "      <td>retired</td>\n",
              "      <td>NaN</td>\n",
              "      <td>NaN</td>\n",
              "      <td>yes</td>\n",
              "      <td>NaN</td>\n",
              "      <td>NaN</td>\n",
              "      <td>someone else</td>\n",
              "      <td>private</td>\n",
              "      <td>...</td>\n",
              "      <td>NaN</td>\n",
              "      <td>NaN</td>\n",
              "      <td>NaN</td>\n",
              "      <td>NaN</td>\n",
              "      <td>NaN</td>\n",
              "      <td>NaN</td>\n",
              "      <td>NaN</td>\n",
              "      <td>NaN</td>\n",
              "      <td>0.396347</td>\n",
              "      <td>0.462239</td>\n",
              "    </tr>\n",
              "  </tbody>\n",
              "</table>\n",
              "<p>5 rows × 6694 columns</p>\n",
              "</div>\n",
              "    <div class=\"colab-df-buttons\">\n",
              "\n",
              "  <div class=\"colab-df-container\">\n",
              "    <button class=\"colab-df-convert\" onclick=\"convertToInteractive('df-011d8d6f-7524-4d49-bd91-feb98f319a00')\"\n",
              "            title=\"Convert this dataframe to an interactive table.\"\n",
              "            style=\"display:none;\">\n",
              "\n",
              "  <svg xmlns=\"http://www.w3.org/2000/svg\" height=\"24px\" viewBox=\"0 -960 960 960\">\n",
              "    <path d=\"M120-120v-720h720v720H120Zm60-500h600v-160H180v160Zm220 220h160v-160H400v160Zm0 220h160v-160H400v160ZM180-400h160v-160H180v160Zm440 0h160v-160H620v160ZM180-180h160v-160H180v160Zm440 0h160v-160H620v160Z\"/>\n",
              "  </svg>\n",
              "    </button>\n",
              "\n",
              "  <style>\n",
              "    .colab-df-container {\n",
              "      display:flex;\n",
              "      gap: 12px;\n",
              "    }\n",
              "\n",
              "    .colab-df-convert {\n",
              "      background-color: #E8F0FE;\n",
              "      border: none;\n",
              "      border-radius: 50%;\n",
              "      cursor: pointer;\n",
              "      display: none;\n",
              "      fill: #1967D2;\n",
              "      height: 32px;\n",
              "      padding: 0 0 0 0;\n",
              "      width: 32px;\n",
              "    }\n",
              "\n",
              "    .colab-df-convert:hover {\n",
              "      background-color: #E2EBFA;\n",
              "      box-shadow: 0px 1px 2px rgba(60, 64, 67, 0.3), 0px 1px 3px 1px rgba(60, 64, 67, 0.15);\n",
              "      fill: #174EA6;\n",
              "    }\n",
              "\n",
              "    .colab-df-buttons div {\n",
              "      margin-bottom: 4px;\n",
              "    }\n",
              "\n",
              "    [theme=dark] .colab-df-convert {\n",
              "      background-color: #3B4455;\n",
              "      fill: #D2E3FC;\n",
              "    }\n",
              "\n",
              "    [theme=dark] .colab-df-convert:hover {\n",
              "      background-color: #434B5C;\n",
              "      box-shadow: 0px 1px 3px 1px rgba(0, 0, 0, 0.15);\n",
              "      filter: drop-shadow(0px 1px 2px rgba(0, 0, 0, 0.3));\n",
              "      fill: #FFFFFF;\n",
              "    }\n",
              "  </style>\n",
              "\n",
              "    <script>\n",
              "      const buttonEl =\n",
              "        document.querySelector('#df-011d8d6f-7524-4d49-bd91-feb98f319a00 button.colab-df-convert');\n",
              "      buttonEl.style.display =\n",
              "        google.colab.kernel.accessAllowed ? 'block' : 'none';\n",
              "\n",
              "      async function convertToInteractive(key) {\n",
              "        const element = document.querySelector('#df-011d8d6f-7524-4d49-bd91-feb98f319a00');\n",
              "        const dataTable =\n",
              "          await google.colab.kernel.invokeFunction('convertToInteractive',\n",
              "                                                    [key], {});\n",
              "        if (!dataTable) return;\n",
              "\n",
              "        const docLinkHtml = 'Like what you see? Visit the ' +\n",
              "          '<a target=\"_blank\" href=https://colab.research.google.com/notebooks/data_table.ipynb>data table notebook</a>'\n",
              "          + ' to learn more about interactive tables.';\n",
              "        element.innerHTML = '';\n",
              "        dataTable['output_type'] = 'display_data';\n",
              "        await google.colab.output.renderOutput(dataTable, element);\n",
              "        const docLink = document.createElement('div');\n",
              "        docLink.innerHTML = docLinkHtml;\n",
              "        element.appendChild(docLink);\n",
              "      }\n",
              "    </script>\n",
              "  </div>\n",
              "\n",
              "\n",
              "<div id=\"df-789d9bf7-7679-4b4c-82f2-0140a2b4135d\">\n",
              "  <button class=\"colab-df-quickchart\" onclick=\"quickchart('df-789d9bf7-7679-4b4c-82f2-0140a2b4135d')\"\n",
              "            title=\"Suggest charts\"\n",
              "            style=\"display:none;\">\n",
              "\n",
              "<svg xmlns=\"http://www.w3.org/2000/svg\" height=\"24px\"viewBox=\"0 0 24 24\"\n",
              "     width=\"24px\">\n",
              "    <g>\n",
              "        <path d=\"M19 3H5c-1.1 0-2 .9-2 2v14c0 1.1.9 2 2 2h14c1.1 0 2-.9 2-2V5c0-1.1-.9-2-2-2zM9 17H7v-7h2v7zm4 0h-2V7h2v10zm4 0h-2v-4h2v4z\"/>\n",
              "    </g>\n",
              "</svg>\n",
              "  </button>\n",
              "\n",
              "<style>\n",
              "  .colab-df-quickchart {\n",
              "      --bg-color: #E8F0FE;\n",
              "      --fill-color: #1967D2;\n",
              "      --hover-bg-color: #E2EBFA;\n",
              "      --hover-fill-color: #174EA6;\n",
              "      --disabled-fill-color: #AAA;\n",
              "      --disabled-bg-color: #DDD;\n",
              "  }\n",
              "\n",
              "  [theme=dark] .colab-df-quickchart {\n",
              "      --bg-color: #3B4455;\n",
              "      --fill-color: #D2E3FC;\n",
              "      --hover-bg-color: #434B5C;\n",
              "      --hover-fill-color: #FFFFFF;\n",
              "      --disabled-bg-color: #3B4455;\n",
              "      --disabled-fill-color: #666;\n",
              "  }\n",
              "\n",
              "  .colab-df-quickchart {\n",
              "    background-color: var(--bg-color);\n",
              "    border: none;\n",
              "    border-radius: 50%;\n",
              "    cursor: pointer;\n",
              "    display: none;\n",
              "    fill: var(--fill-color);\n",
              "    height: 32px;\n",
              "    padding: 0;\n",
              "    width: 32px;\n",
              "  }\n",
              "\n",
              "  .colab-df-quickchart:hover {\n",
              "    background-color: var(--hover-bg-color);\n",
              "    box-shadow: 0 1px 2px rgba(60, 64, 67, 0.3), 0 1px 3px 1px rgba(60, 64, 67, 0.15);\n",
              "    fill: var(--button-hover-fill-color);\n",
              "  }\n",
              "\n",
              "  .colab-df-quickchart-complete:disabled,\n",
              "  .colab-df-quickchart-complete:disabled:hover {\n",
              "    background-color: var(--disabled-bg-color);\n",
              "    fill: var(--disabled-fill-color);\n",
              "    box-shadow: none;\n",
              "  }\n",
              "\n",
              "  .colab-df-spinner {\n",
              "    border: 2px solid var(--fill-color);\n",
              "    border-color: transparent;\n",
              "    border-bottom-color: var(--fill-color);\n",
              "    animation:\n",
              "      spin 1s steps(1) infinite;\n",
              "  }\n",
              "\n",
              "  @keyframes spin {\n",
              "    0% {\n",
              "      border-color: transparent;\n",
              "      border-bottom-color: var(--fill-color);\n",
              "      border-left-color: var(--fill-color);\n",
              "    }\n",
              "    20% {\n",
              "      border-color: transparent;\n",
              "      border-left-color: var(--fill-color);\n",
              "      border-top-color: var(--fill-color);\n",
              "    }\n",
              "    30% {\n",
              "      border-color: transparent;\n",
              "      border-left-color: var(--fill-color);\n",
              "      border-top-color: var(--fill-color);\n",
              "      border-right-color: var(--fill-color);\n",
              "    }\n",
              "    40% {\n",
              "      border-color: transparent;\n",
              "      border-right-color: var(--fill-color);\n",
              "      border-top-color: var(--fill-color);\n",
              "    }\n",
              "    60% {\n",
              "      border-color: transparent;\n",
              "      border-right-color: var(--fill-color);\n",
              "    }\n",
              "    80% {\n",
              "      border-color: transparent;\n",
              "      border-right-color: var(--fill-color);\n",
              "      border-bottom-color: var(--fill-color);\n",
              "    }\n",
              "    90% {\n",
              "      border-color: transparent;\n",
              "      border-bottom-color: var(--fill-color);\n",
              "    }\n",
              "  }\n",
              "</style>\n",
              "\n",
              "  <script>\n",
              "    async function quickchart(key) {\n",
              "      const quickchartButtonEl =\n",
              "        document.querySelector('#' + key + ' button');\n",
              "      quickchartButtonEl.disabled = true;  // To prevent multiple clicks.\n",
              "      quickchartButtonEl.classList.add('colab-df-spinner');\n",
              "      try {\n",
              "        const charts = await google.colab.kernel.invokeFunction(\n",
              "            'suggestCharts', [key], {});\n",
              "      } catch (error) {\n",
              "        console.error('Error during call to suggestCharts:', error);\n",
              "      }\n",
              "      quickchartButtonEl.classList.remove('colab-df-spinner');\n",
              "      quickchartButtonEl.classList.add('colab-df-quickchart-complete');\n",
              "    }\n",
              "    (() => {\n",
              "      let quickchartButtonEl =\n",
              "        document.querySelector('#df-789d9bf7-7679-4b4c-82f2-0140a2b4135d button');\n",
              "      quickchartButtonEl.style.display =\n",
              "        google.colab.kernel.accessAllowed ? 'block' : 'none';\n",
              "    })();\n",
              "  </script>\n",
              "</div>\n",
              "    </div>\n",
              "  </div>\n"
            ],
            "application/vnd.google.colaboratory.intrinsic+json": {
              "type": "dataframe",
              "variable_name": "df"
            }
          },
          "metadata": {},
          "execution_count": 5
        }
      ]
    },
    {
      "cell_type": "code",
      "source": [
        "# Confirm all data is from correct years: 2022, 2021, 2018\n",
        "year = df['year']\n",
        "print(year.unique(), '\\n')"
      ],
      "metadata": {
        "colab": {
          "base_uri": "https://localhost:8080/"
        },
        "id": "vW05qMJB8ND-",
        "outputId": "e79121d1-d7d3-4178-ed2c-c0fc1621b49a"
      },
      "execution_count": null,
      "outputs": [
        {
          "output_type": "stream",
          "name": "stdout",
          "text": [
            "[2018 2021 2022] \n",
            "\n"
          ]
        }
      ]
    },
    {
      "cell_type": "code",
      "source": [
        "# Select the columns we want to use: mntlhtlh, hrs2, income16, wrkslf\n",
        "df = df.loc[:,['mntlhlth','hrs2','income16', 'wrkslf']]\n",
        "print(df.shape, '\\n')\n",
        "print(df.head())\n"
      ],
      "metadata": {
        "colab": {
          "base_uri": "https://localhost:8080/"
        },
        "id": "WRQlM5vl_jmT",
        "outputId": "23171d94-db69-4363-dd16-567b34a8b6a6"
      },
      "execution_count": null,
      "outputs": [
        {
          "output_type": "stream",
          "name": "stdout",
          "text": [
            "(9924, 4) \n",
            "\n",
            "       mntlhlth  hrs2              income16        wrkslf\n",
            "14206      20.0  41.0                   NaN  someone else\n",
            "14207       NaN   NaN    $30,000 to $34,999  someone else\n",
            "14208       3.0   NaN  $150,000 to $169,999  someone else\n",
            "14209       1.0   NaN      $170,000 or over  someone else\n",
            "14210       NaN   NaN      $170,000 or over  someone else\n"
          ]
        }
      ]
    },
    {
      "cell_type": "code",
      "source": [
        "# Remove all nan/missing values\n",
        "df = df.dropna()\n",
        "print(df.shape, '\\n')\n",
        "print(df.head())"
      ],
      "metadata": {
        "colab": {
          "base_uri": "https://localhost:8080/"
        },
        "id": "O48uA-vBFoqJ",
        "outputId": "2acb89de-c341-47c5-cb81-e855f80cbb34"
      },
      "execution_count": null,
      "outputs": [
        {
          "output_type": "stream",
          "name": "stdout",
          "text": [
            "(120, 4) \n",
            "\n",
            "       mntlhlth  hrs2              income16        wrkslf\n",
            "14293       0.0  40.0      $170,000 or over  someone else\n",
            "14296       1.0  45.0   $90,000 to $109,999  someone else\n",
            "14303       0.0  50.0  $130,000 to $149,999  someone else\n",
            "14310       0.0  24.0    $60,000 to $74,999  someone else\n",
            "14444       0.0  15.0  $150,000 to $169,999  someone else\n"
          ]
        }
      ]
    },
    {
      "cell_type": "code",
      "source": [
        "# Make a copy of the mntlhlth column\n",
        "# mntlhlth: days of poor mental health past 30 days, for how many days during the past 30 days was your mental health not good?\n",
        "# mental health: stress, depression, problems with emotions\n",
        "mh = df['mntlhlth']\n",
        "print(mh.unique(), '\\n')\n",
        "mh.value_counts()"
      ],
      "metadata": {
        "colab": {
          "base_uri": "https://localhost:8080/"
        },
        "id": "OJ5hpo-4F6kD",
        "outputId": "deaa03c7-27bf-47c3-cc19-4ad418e03b27"
      },
      "execution_count": null,
      "outputs": [
        {
          "output_type": "stream",
          "name": "stdout",
          "text": [
            "[ 0.  1.  2. 10. 14.  5. 30.  3. 15. 25.  4. 20.  6.  7.  8. 12.] \n",
            "\n"
          ]
        },
        {
          "output_type": "execute_result",
          "data": {
            "text/plain": [
              "0.0     51\n",
              "30.0    13\n",
              "5.0     11\n",
              "2.0      9\n",
              "10.0     7\n",
              "15.0     6\n",
              "1.0      4\n",
              "3.0      4\n",
              "14.0     3\n",
              "4.0      3\n",
              "20.0     3\n",
              "25.0     2\n",
              "6.0      1\n",
              "7.0      1\n",
              "8.0      1\n",
              "12.0     1\n",
              "Name: mntlhlth, dtype: int64"
            ]
          },
          "metadata": {},
          "execution_count": 9
        }
      ]
    },
    {
      "cell_type": "code",
      "source": [
        "# Confirm there are no missing values\n",
        "print('Total missing: ', sum(mh.isnull()))"
      ],
      "metadata": {
        "colab": {
          "base_uri": "https://localhost:8080/"
        },
        "id": "YXcEov2_q1ev",
        "outputId": "32ac79c9-fc6c-4802-f3b3-da5a07e37a24"
      },
      "execution_count": null,
      "outputs": [
        {
          "output_type": "stream",
          "name": "stdout",
          "text": [
            "Total missing:  0\n"
          ]
        }
      ]
    },
    {
      "cell_type": "code",
      "source": [
        "# number of hours worked per week\n",
        "hoursworked = df[\"hrs2\"]\n",
        "hoursworked.value_counts()"
      ],
      "metadata": {
        "colab": {
          "base_uri": "https://localhost:8080/"
        },
        "id": "LG8sz3R_NWe6",
        "outputId": "929a8431-a290-4df5-d1e4-e40d11ba4514"
      },
      "execution_count": null,
      "outputs": [
        {
          "output_type": "execute_result",
          "data": {
            "text/plain": [
              "40.0    49\n",
              "50.0    16\n",
              "45.0     5\n",
              "35.0     5\n",
              "30.0     4\n",
              "60.0     4\n",
              "25.0     4\n",
              "48.0     3\n",
              "10.0     3\n",
              "55.0     3\n",
              "38.0     2\n",
              "80.0     2\n",
              "36.0     2\n",
              "70.0     2\n",
              "6.0      2\n",
              "15.0     2\n",
              "24.0     2\n",
              "84.0     1\n",
              "12.0     1\n",
              "46.0     1\n",
              "9.0      1\n",
              "42.0     1\n",
              "32.0     1\n",
              "1.0      1\n",
              "66.0     1\n",
              "21.0     1\n",
              "52.0     1\n",
              "Name: hrs2, dtype: int64"
            ]
          },
          "metadata": {},
          "execution_count": 11
        }
      ]
    },
    {
      "cell_type": "code",
      "source": [
        "print('Total missing: ', sum(hoursworked.isnull()))"
      ],
      "metadata": {
        "colab": {
          "base_uri": "https://localhost:8080/"
        },
        "id": "rpRQkFhSw532",
        "outputId": "ffcaacf3-2c08-4b70-c3e3-40c4a19b0b1e"
      },
      "execution_count": null,
      "outputs": [
        {
          "output_type": "stream",
          "name": "stdout",
          "text": [
            "Total missing:  0\n"
          ]
        }
      ]
    },
    {
      "cell_type": "code",
      "source": [
        "# income brackets\n",
        "income = df[\"income16\"]\n",
        "income.value_counts()\n",
        "#print(income.unique(), '\\n')\n",
        "#income.dtype"
      ],
      "metadata": {
        "colab": {
          "base_uri": "https://localhost:8080/"
        },
        "id": "rMt7E0-DPc0g",
        "outputId": "d29b421f-a7da-49cd-b6a1-bac5d602ced5"
      },
      "execution_count": null,
      "outputs": [
        {
          "output_type": "execute_result",
          "data": {
            "text/plain": [
              "$60,000 to $74,999               19\n",
              "$170,000 or over                 14\n",
              "$90,000 to $109,999              14\n",
              "$50,000 to $59,999               12\n",
              "$75,000 to $89,999                7\n",
              "$40,000 to $49,999                7\n",
              "$30,000 to $34,999                7\n",
              "$35,000 to $39,999                6\n",
              "$110,000 to $129,999              5\n",
              "$25,000 to $29,999                4\n",
              "$150,000 to $169,999              4\n",
              "$130,000 to $149,999              4\n",
              "$20,000 to $22,499                4\n",
              "$17,500 to $19,999                3\n",
              "under $1,000                      2\n",
              "$7,000 to $7,999                  2\n",
              "$22,500 to $24,999                1\n",
              "$12,500 to $14,999                1\n",
              "$10,000 to $12,499                1\n",
              "$1,000 to $2,999                  1\n",
              "$5,000 to $5,999                  1\n",
              "$15,000 to $17,499                1\n",
              "no answer                         0\n",
              "not available in this year        0\n",
              "not available in this release     0\n",
              "uncodeable                        0\n",
              "skipped on web                    0\n",
              "refused                           0\n",
              "not imputable_(2147483638)        0\n",
              "not imputable_(2147483637)        0\n",
              "iap                               0\n",
              "dk, na, iap                       0\n",
              "I don't have a job                0\n",
              "don't know                        0\n",
              "$3,000 to $3,999                  0\n",
              "$4,000 to $4,999                  0\n",
              "$6,000 to $6,999                  0\n",
              "$8,000 to $9,999                  0\n",
              "see codebook                      0\n",
              "Name: income16, dtype: int64"
            ]
          },
          "metadata": {},
          "execution_count": 13
        }
      ]
    },
    {
      "cell_type": "code",
      "source": [
        "# Remove all unused categories\n",
        "income = income.cat.remove_unused_categories()  # source: https://stackoverflow.com/questions/62090972/why-does-pandas-value-counts-show-a-count-of-zero-for-some-values\n",
        "income.value_counts()"
      ],
      "metadata": {
        "colab": {
          "base_uri": "https://localhost:8080/"
        },
        "id": "0ex40FZHrUSi",
        "outputId": "d2ec8194-fdc1-42e5-98eb-c98940880eba"
      },
      "execution_count": null,
      "outputs": [
        {
          "output_type": "execute_result",
          "data": {
            "text/plain": [
              "$60,000 to $74,999      19\n",
              "$170,000 or over        14\n",
              "$90,000 to $109,999     14\n",
              "$50,000 to $59,999      12\n",
              "$40,000 to $49,999       7\n",
              "$75,000 to $89,999       7\n",
              "$30,000 to $34,999       7\n",
              "$35,000 to $39,999       6\n",
              "$110,000 to $129,999     5\n",
              "$20,000 to $22,499       4\n",
              "$25,000 to $29,999       4\n",
              "$130,000 to $149,999     4\n",
              "$150,000 to $169,999     4\n",
              "$17,500 to $19,999       3\n",
              "$7,000 to $7,999         2\n",
              "under $1,000             2\n",
              "$22,500 to $24,999       1\n",
              "$1,000 to $2,999         1\n",
              "$15,000 to $17,499       1\n",
              "$12,500 to $14,999       1\n",
              "$10,000 to $12,499       1\n",
              "$5,000 to $5,999         1\n",
              "Name: income16, dtype: int64"
            ]
          },
          "metadata": {},
          "execution_count": 14
        }
      ]
    },
    {
      "cell_type": "code",
      "source": [
        "print('Total missing: ', sum(income.isnull()))"
      ],
      "metadata": {
        "colab": {
          "base_uri": "https://localhost:8080/"
        },
        "id": "kt4U8dP3xW5-",
        "outputId": "677b0502-cc87-4a6b-ff49-fdff04f45a6a"
      },
      "execution_count": null,
      "outputs": [
        {
          "output_type": "stream",
          "name": "stdout",
          "text": [
            "Total missing:  0\n"
          ]
        }
      ]
    },
    {
      "cell_type": "code",
      "source": [
        "income = income.replace(['under $1,000', '$1,000 to $2,999', '$5,000 to $5,999', '$7,000 to $7,999', '$10,000 to $12,499',\n",
        "                         '$12,500 to $14,999', '$15,000 to $17,499', '$17,500 to $19,999', '$20,000 to $22,499', '$22,500 to $24,999',\n",
        "                         '$25,000 to $29,999', '$30,000 to $34,999', '$35,000 to $39,999', '$40,000 to $49,999', '$50,000 to $59,999'],'Lower')\n",
        "income = income.replace(['$60,000 to $74,999', '$75,000 to $89,999', '$90,000 to $109,999', '$110,000 to $129,999', '$130,000 to $149,999'],'Middle')\n",
        "income = income.replace(['$150,000 to $169,999', '$170,000 or over'],'Upper')\n",
        "income.value_counts()"
      ],
      "metadata": {
        "id": "ZACzClbax30D",
        "outputId": "1f62ad20-265b-4567-d3b9-b269097f9f31",
        "colab": {
          "base_uri": "https://localhost:8080/"
        }
      },
      "execution_count": null,
      "outputs": [
        {
          "output_type": "execute_result",
          "data": {
            "text/plain": [
              "Lower     53\n",
              "Middle    49\n",
              "Upper     18\n",
              "Name: income16, dtype: int64"
            ]
          },
          "metadata": {},
          "execution_count": 16
        }
      ]
    },
    {
      "cell_type": "code",
      "source": [
        "# Replace original income column with cleaned income column for updated dataframe\n",
        "df['income16'] = income\n",
        "df['income16'].value_counts()"
      ],
      "metadata": {
        "colab": {
          "base_uri": "https://localhost:8080/"
        },
        "id": "bhVhsscdtYlc",
        "outputId": "042b3626-6323-4683-df2b-59e4f1b2fbdc"
      },
      "execution_count": null,
      "outputs": [
        {
          "output_type": "execute_result",
          "data": {
            "text/plain": [
              "Lower     53\n",
              "Middle    49\n",
              "Upper     18\n",
              "Name: income16, dtype: int64"
            ]
          },
          "metadata": {},
          "execution_count": 17
        }
      ]
    },
    {
      "cell_type": "code",
      "source": [
        "# self employed or not\n",
        "employment = df[\"wrkslf\"]\n",
        "employment.value_counts()"
      ],
      "metadata": {
        "colab": {
          "base_uri": "https://localhost:8080/"
        },
        "id": "SbHl6Js1RQ4W",
        "outputId": "8f1a7c8d-7787-4e4f-9665-45c7d45b20c4"
      },
      "execution_count": null,
      "outputs": [
        {
          "output_type": "execute_result",
          "data": {
            "text/plain": [
              "someone else                     106\n",
              "self-employed                     14\n",
              "don't know                         0\n",
              "iap                                0\n",
              "I don't have a job                 0\n",
              "dk, na, iap                        0\n",
              "no answer                          0\n",
              "not imputable_(2147483637)         0\n",
              "not imputable_(2147483638)         0\n",
              "refused                            0\n",
              "skipped on web                     0\n",
              "uncodeable                         0\n",
              "not available in this release      0\n",
              "not available in this year         0\n",
              "see codebook                       0\n",
              "Name: wrkslf, dtype: int64"
            ]
          },
          "metadata": {},
          "execution_count": 18
        }
      ]
    },
    {
      "cell_type": "code",
      "source": [
        "# Remove all unused categories\n",
        "employment = employment.cat.remove_unused_categories()\n",
        "employment.value_counts()"
      ],
      "metadata": {
        "colab": {
          "base_uri": "https://localhost:8080/"
        },
        "id": "P8x0ZqtmspOm",
        "outputId": "87bb2a18-1501-484b-e3ce-2ac975e7fae5"
      },
      "execution_count": null,
      "outputs": [
        {
          "output_type": "execute_result",
          "data": {
            "text/plain": [
              "someone else     106\n",
              "self-employed     14\n",
              "Name: wrkslf, dtype: int64"
            ]
          },
          "metadata": {},
          "execution_count": 19
        }
      ]
    },
    {
      "cell_type": "code",
      "source": [
        "print('Total missing: ', sum(employment.isnull()))"
      ],
      "metadata": {
        "colab": {
          "base_uri": "https://localhost:8080/"
        },
        "id": "F2D00y0hxap8",
        "outputId": "a4a2bbd6-1d7f-4e65-9987-9dd5568feb91"
      },
      "execution_count": null,
      "outputs": [
        {
          "output_type": "stream",
          "name": "stdout",
          "text": [
            "Total missing:  0\n"
          ]
        }
      ]
    },
    {
      "cell_type": "code",
      "source": [
        "# Replace original self employed column with cleaned self-employed column for updated dataframe\n",
        "df['wrkslf'] = employment\n",
        "df['wrkslf'].value_counts()"
      ],
      "metadata": {
        "id": "Fs7SZQ66uGgp",
        "colab": {
          "base_uri": "https://localhost:8080/"
        },
        "outputId": "4ed9c1db-7f6e-4b9d-985d-1fe83a9c81de"
      },
      "execution_count": null,
      "outputs": [
        {
          "output_type": "execute_result",
          "data": {
            "text/plain": [
              "someone else     106\n",
              "self-employed     14\n",
              "Name: wrkslf, dtype: int64"
            ]
          },
          "metadata": {},
          "execution_count": 21
        }
      ]
    },
    {
      "cell_type": "code",
      "source": [
        "# Changed categorical columns into object types for easier visualization and interaction manipulation\n",
        "df[\"wrkslf\"] = df[\"wrkslf\"].astype('object')\n",
        "df[\"income16\"] = df[\"income16\"].astype('object')"
      ],
      "metadata": {
        "id": "V3tA2gub5lgX"
      },
      "execution_count": null,
      "outputs": []
    },
    {
      "cell_type": "code",
      "source": [
        "pd.crosstab(df['wrkslf'],df['income16'], normalize = 'all')"
      ],
      "metadata": {
        "id": "eSusIKRHKakG"
      },
      "execution_count": null,
      "outputs": []
    },
    {
      "cell_type": "markdown",
      "source": [
        "Most respondents are lower (0.358) or middle (0.392) class employees. The self-employed middle and upper class were the least represented in the data (0.016 each)."
      ],
      "metadata": {
        "id": "WIBHa68c6JKX"
      }
    },
    {
      "cell_type": "code",
      "source": [
        "# Data Visualization"
      ],
      "metadata": {
        "id": "trYCInfzkC3i"
      },
      "execution_count": null,
      "outputs": []
    },
    {
      "cell_type": "code",
      "source": [
        "sns.kdeplot(df,x=\"mntlhlth\")\n",
        "df['mntlhlth'].describe()"
      ],
      "metadata": {
        "id": "lhkEmM1sKpQ6"
      },
      "execution_count": null,
      "outputs": []
    },
    {
      "cell_type": "markdown",
      "source": [
        "Looking at the mental health variable, there is a slight skew towards the right in the density plot. On average, the respondents took around 7 (6.97) mental health days off in a month."
      ],
      "metadata": {
        "id": "I4gm8w8uK09G"
      }
    },
    {
      "cell_type": "code",
      "source": [
        "sns.kdeplot(df,x=\"mntlhlth\",hue=\"wrkslf\")\n",
        "df.loc[:,[\"wrkslf\",\"mntlhlth\"]].groupby(\"wrkslf\").describe()"
      ],
      "metadata": {
        "id": "IYyty3afmyE0"
      },
      "execution_count": null,
      "outputs": []
    },
    {
      "cell_type": "markdown",
      "source": [
        "On average, workers who were self-employed took around 5 days (4.93) mental health days off in a month. Workers who were employed by someone else took around 7 (7.24) mental health days off in a month."
      ],
      "metadata": {
        "id": "oGJO2K9mK-VK"
      }
    },
    {
      "cell_type": "code",
      "source": [
        "sns.kdeplot(df,x=\"mntlhlth\",hue=\"income16\")\n",
        "df.loc[:,[\"income16\",\"mntlhlth\"]].groupby(\"income16\").describe()"
      ],
      "metadata": {
        "id": "voKK-mBXrkPV"
      },
      "execution_count": null,
      "outputs": []
    },
    {
      "cell_type": "markdown",
      "source": [
        "On average, workers who were in the low income group took around 9 days (9.24) mental health days off in a month. Workers who were in the middle income took around 6 (5.84) mental health days off in a month and high income earners took around 3 (3.33) mental health days off in a month on average.\n",
        "\n",
        "\n"
      ],
      "metadata": {
        "id": "tnhaHcy1yqkd"
      }
    },
    {
      "cell_type": "code",
      "source": [
        "df[\"WorkStatusXIncomeLevel\"] = df[\"wrkslf\"]+df[\"income16\"]\n",
        "sns.kdeplot(df,x=\"mntlhlth\",hue=\"WorkStatusXIncomeLevel\")\n",
        "df.loc[:,['wrkslf','income16','mntlhlth']].groupby(['wrkslf','income16']).describe()"
      ],
      "metadata": {
        "id": "eiWKZxIqx0zS"
      },
      "execution_count": null,
      "outputs": []
    },
    {
      "cell_type": "markdown",
      "source": [
        "Looking at the interaction between income levels and work status, the group that took the most mental health days on average were the lower income employed workers (9.93). The group that took the least amount of mental health days off, on average, were the self-employed middle income group (0.00)."
      ],
      "metadata": {
        "id": "7HwvDQhryE3Z"
      }
    },
    {
      "cell_type": "code",
      "source": [
        "# kernel density plot\n",
        "sns.kdeplot(data=df,x='hrs2',hue='wrkslf')\n",
        "plt.legend(title='Work Status',labels=[\"Employee\",\"Self-Employed\"])\n",
        "plt.show()\n",
        "df.groupby('wrkslf')['hrs2'].describe()"
      ],
      "metadata": {
        "id": "t9HLxaFSkSLu"
      },
      "execution_count": null,
      "outputs": []
    },
    {
      "cell_type": "markdown",
      "source": [
        "The kernel density plot shows an approximately normal distribution for the hours worked variable. The normal shape is beneficial to future analyses and the validity of predictions. Self employed workers work on average 31.3 hours while employed workers work 41.7 hours on average."
      ],
      "metadata": {
        "id": "rJV-pKgYbNFa"
      }
    },
    {
      "cell_type": "code",
      "source": [
        "sns.kdeplot(data=df,x='hrs2',hue='income16')\n",
        "plt.legend(title='Income',labels=[\"Upper\",\"Middle\",\"Lower\"])\n",
        "plt.show()\n",
        "df.groupby('income16')['hrs2'].describe()\n"
      ],
      "metadata": {
        "id": "FTFMiNlGLm3P"
      },
      "execution_count": null,
      "outputs": []
    },
    {
      "cell_type": "markdown",
      "source": [
        "The kernel density plot shows an approximately normal distribution for the income variable. Again, the normal shape is beneficial to future analyses and the validity of predictions. The lower income group works on average 38 hours a week (38.01), the middle income group works 42 hours a week (41.65), and the upper income group works around 45 hours a week on average (44.78)."
      ],
      "metadata": {
        "id": "OUY88C54chZP"
      }
    },
    {
      "cell_type": "code",
      "source": [
        "sns.scatterplot(data=df,x='hrs2',y='mntlhlth', hue='wrkslf')\n",
        "correlation_employment = df.groupby('wrkslf').apply(lambda x: x['hrs2'].corr(x['mntlhlth']))"
      ],
      "metadata": {
        "id": "TF2ViowKpuXG"
      },
      "execution_count": null,
      "outputs": []
    },
    {
      "cell_type": "markdown",
      "source": [
        "In the scatterplot comparing mental health days taken off to hours worked (grouped by employment), self-employed workers (0.03) had higher correlation with mental health days taken off than employed workers (0.01). There seems to be almost no correlation between hours worked and mental health days taken off in a month when grouped by employment."
      ],
      "metadata": {
        "id": "HvPvj1JO2OAk"
      }
    },
    {
      "cell_type": "code",
      "source": [
        "sns.scatterplot(data=df,x='hrs2',y='mntlhlth', hue='income16')\n",
        "correlation_income = df.groupby('income16').apply(lambda x: x['hrs2'].corr(x['mntlhlth']))"
      ],
      "metadata": {
        "id": "38542T_Lq-H9"
      },
      "execution_count": null,
      "outputs": []
    },
    {
      "cell_type": "markdown",
      "source": [
        "In the scatterplot comparing mental health days taken off to hours worked (grouped by income), the lowest income group had the highest correlation with mental health days off (0.16) and the middle income group had the lowest correlation (0.05). There is a weak correlation between hours worked and mental health days taken off in a month when grouped by income groups."
      ],
      "metadata": {
        "id": "3_uACr8smG7A"
      }
    },
    {
      "cell_type": "markdown",
      "source": [
        "# **Results**\n",
        "\n",
        "In order to get a better grasp of our data we looked at the distributions of the predictor variables (hrs2, income16, wrkslf) as well as the response variable (mntlhlth). We mainly used grouped kernel density plots to show the distribution of the predictor variables and used a crosstab to show the categorical variable distributions. In addition, we employed grouped scatter plots to see if there was a relationship between the number of mental health days taken off in a month and the number of hours worked in a week.\n",
        "\n",
        "Based on our crosstab of the two categorical predictors (wrkslf, income16) we found most respondents of our filtered dataset were lower (0.358) or middle (0.392) class employees. The self-employed middle and upper class were the least represented in the data (0.016 each).  \n",
        "\n",
        "Looking at the mental health variable, there was a slight skew towards the right in the density plot. On average, the respondents took around 7 (6.97) mental health days off in a month. When taking employment into consideration, on average, workers who were self-employed took around 5 days (4.93) mental health days off in a month. Workers who were employed by someone else took around 7 (7.24) mental health days off in a month. For the income group distributions, on average, workers who were in the low income group took around 9 days (9.24) mental health days off in a month. Workers who were in the middle income took around 6 (5.84) mental health days off in a month and high income earners took around 3 (3.33) mental health days off in a month on average.\n",
        "\n",
        "The kernel density plot for the hours worked variable showed an approximately normal distribution . Self employed workers work on average 31.3 hours while employed workers work 41.7 hours on average. The kernel density plot for the income variable showed an approximately normal distribution. The lower income group works on average 38 hours a week (38.01), the middle income group works 42 hours a week (41.65), and the upper income group works around 45 hours a week on average (44.78).\n",
        "\n",
        "In the scatterplot comparing mental health days taken off to hours worked (grouped by employment), self-employed workers (0.03) had higher correlation with mental health days taken off than employed workers (0.01). There seems to be almost no correlation between hours worked and mental health days taken off in a month when grouped by employment. In the scatterplot comparing mental health days taken off to hours worked (grouped by income), the lowest income group had the highest correlation with mental health days off (0.16) and the middle income group had the lowest correlation (0.05). There is a weak correlation between hours worked and mental health days taken off in a month when grouped by income groups."
      ],
      "metadata": {
        "id": "4waPiGCEznBr"
      }
    },
    {
      "cell_type": "markdown",
      "source": [
        "# **Conclusion**\n",
        "\n",
        "To summarize, our project was a way for our team to practically use the skills we’ve learned in class — data wrangling, exploratory data analysis, and visualization. Our dataset was the General Social Survey (GSS), an ongoing survey for over fifty years collecting data from the same 3,000 participants. After examining the data, we chose the research question: How do different kinds of employment conditions affect mental health? We ran into a few problems with the dataset, which required us to clean the data by removing missing values, indexing by the last three years that the survey was sent out, and selecting certain variables from the vast dataset (mntlhealth, hrs2, income16, and wkslf). We then used the cleaned dataset to make a few visualizations including kernel density plots and scatter plots. The kernel density plots were used to show the distribution of predictor variables with a crosstab to display the categorical variable distributions. On the other hand, the grouped scatterplots were used to look at the mntlhealth variable and hrs2 to see if there was a relationship. After examining the density plot, we can see that on average, those who are self-employed and with higher income correlated with better mental health as measured by the lower number of mental health days off in a month. In the scatterplot, we once again saw a strong correlation between self-employed and a lesser number of mental health days off compared to those who worked for others when observing mental health days off and hours worked. In the scatterplot comparing hours worked and mental health days off, groups by income, the lowest income group had the highest correlation with mental health days off compared to others.\n",
        "\n",
        "Upon reading our paper, some people may have various points of criticism. For example, they could ask about our variable selection process, cleaning process, and grouping choices. We acknowledge that the variables we chose are limited in showing the full story of employment conditions and their correlation with mental health. However, we chose the best and most relevant variables available from the dataset. If we could expand the scope of our project, there are certainly more data points and even datasets out on the Internet that could better example that relationship. Furthermore, there may be concerns regarding how we chose to group certain variables like income16 into different income levels. These income levels were chosen based on Pew Research Center’s income brackets listed on their website. It did result in an uneven number of data points per income level; however, given the chaotic ranges of income we were given after cleaning the data, it made the most intuitive sense to group them by income bracket. Ideally, if the scope of the project was bigger and the dataset contained fewer missing values, we would have data points for each income range and more total data points to create better analyses. To conclude, our analysis was limited by the sparse responses from the 3,000 participants and the thoroughness of the questions asked in the GSS. Given more time and resources, we could find more datasets outside the scope of the project to enhance our analyses."
      ],
      "metadata": {
        "id": "PgEiqZ3xzsLb"
      }
    }
  ]
}